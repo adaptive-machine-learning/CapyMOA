{
 "cells": [
  {
   "attachments": {},
   "cell_type": "markdown",
   "id": "4b40b5a3-2217-4ef4-9daa-8c33a82a8f31",
   "metadata": {},
   "source": [
    "# Testing the ```Classification Evaluators``` classes\n",
    "* ```ClassificationEvaluator``` and ```ClassificationWindowedEvaluator```\n",
    "* This notebook also includes **integration examples showing how to use ```MOA``` and ```River```** with these evaluators \n",
    "\n",
    "**Notebook last update: 17/02/2024**"
   ]
  },
  {
   "cell_type": "code",
   "execution_count": 1,
   "id": "f6c3fc32-efa6-4238-a6f6-7e84aed4973d",
   "metadata": {
    "execution": {
     "iopub.execute_input": "2024-02-22T02:03:42.929082Z",
     "iopub.status.busy": "2024-02-22T02:03:42.928365Z",
     "iopub.status.idle": "2024-02-22T02:03:43.935221Z",
     "shell.execute_reply": "2024-02-22T02:03:43.933935Z"
    }
   },
   "outputs": [
    {
     "name": "stdout",
     "output_type": "stream",
     "text": [
      "capymoa_root: /home/antonlee/github.com/tachyonicClock/MOABridge/src/capymoa\n",
      "MOA jar path location (config.ini): /home/antonlee/github.com/tachyonicClock/MOABridge/src/capymoa/jar/moa.jar\n",
      "JVM Location (system): \n",
      "JAVA_HOME: /usr/lib/jvm/java-17-openjdk\n",
      "JVM args: ['-Xmx8g', '-Xss10M']\n"
     ]
    },
    {
     "name": "stdout",
     "output_type": "stream",
     "text": [
      "Sucessfully started the JVM and added MOA jar to the class path\n"
     ]
    }
   ],
   "source": [
    "from capymoa.stream.stream import Schema\n",
    "from capymoa.evaluation import ClassificationEvaluator, ClassificationWindowedEvaluator\n",
    "import pandas as pd"
   ]
  },
  {
   "attachments": {},
   "cell_type": "markdown",
   "id": "9995e6df-d96b-4f80-b0a4-54d1385915c6",
   "metadata": {},
   "source": [
    "## Test ClassificationEvaluator 0\n",
    "\n",
    "* If the schema is not set, the evaluator cannot function. "
   ]
  },
  {
   "cell_type": "code",
   "execution_count": 2,
   "id": "195b466e-c3c5-4288-81db-4fd562798011",
   "metadata": {
    "execution": {
     "iopub.execute_input": "2024-02-22T02:03:43.940077Z",
     "iopub.status.busy": "2024-02-22T02:03:43.939680Z",
     "iopub.status.idle": "2024-02-22T02:03:43.946756Z",
     "shell.execute_reply": "2024-02-22T02:03:43.945862Z"
    }
   },
   "outputs": [
    {
     "name": "stdout",
     "output_type": "stream",
     "text": [
      "Error while trying to create the evaluator. Exception: Schema is None, please define a proper Schema.\n"
     ]
    }
   ],
   "source": [
    "try: \n",
    "    evaluator = ClassificationEvaluator(schema=None)\n",
    "except ValueError as e:\n",
    "    print(f\"Error while trying to create the evaluator. Exception: {e}\")"
   ]
  },
  {
   "attachments": {},
   "cell_type": "markdown",
   "id": "0cb6d91c-4e27-4b17-a279-82094cd4b9ea",
   "metadata": {},
   "source": [
    "## Test ClassificationEvaluator 1\n",
    "\n",
    "* The class label values (labels) match their corresponding indexes, whether the evaluator treat y and y_pred as values or indexes doesn't matter. "
   ]
  },
  {
   "cell_type": "code",
   "execution_count": 3,
   "id": "29b0a5d9-1f26-4dbe-bb39-158d9521e90c",
   "metadata": {
    "execution": {
     "iopub.execute_input": "2024-02-22T02:03:43.950812Z",
     "iopub.status.busy": "2024-02-22T02:03:43.950436Z",
     "iopub.status.idle": "2024-02-22T02:03:43.967800Z",
     "shell.execute_reply": "2024-02-22T02:03:43.966917Z"
    }
   },
   "outputs": [
    {
     "name": "stdout",
     "output_type": "stream",
     "text": [
      "['classified instances', 'classifications correct (percent)', 'Kappa Statistic (percent)', 'Kappa Temporal Statistic (percent)', 'Kappa M Statistic (percent)', 'F1 Score (percent)', 'F1 Score for class 0 (percent)', 'F1 Score for class 1 (percent)', 'Precision (percent)', 'Precision for class 0 (percent)', 'Precision for class 1 (percent)', 'Recall (percent)', 'Recall for class 0 (percent)', 'Recall for class 1 (percent)']\n",
      "[4.0, 50.0, -33.33333333333333, 33.33333333333333, -100.0, 33.33333333333333, nan, 66.66666666666666, 33.33333333333333, 0.0, 66.66666666666666, 33.33333333333333, 0.0, 66.66666666666666]\n",
      "50.0\n",
      "-33.33333333333333\n",
      "33.33333333333333\n",
      "-100.0\n"
     ]
    }
   ],
   "source": [
    "schema = Schema(labels=[0,1])\n",
    "evaluator = ClassificationEvaluator(schema=schema)\n",
    "\n",
    "evaluator.update(1, 0)\n",
    "evaluator.update(1, 1)\n",
    "evaluator.update(0, 1)\n",
    "evaluator.update(1, 1)\n",
    "\n",
    "print(evaluator.metrics_header())\n",
    "print(evaluator.metrics())\n",
    "print(evaluator.accuracy())\n",
    "print(evaluator.kappa())\n",
    "print(evaluator.kappa_temporal())\n",
    "print(evaluator.kappa_M())"
   ]
  },
  {
   "attachments": {},
   "cell_type": "markdown",
   "id": "2ae2fb05-f065-4c83-8ef9-89fd7d8eb523",
   "metadata": {},
   "source": [
    "## Test ClassificationEvaluator 2\n",
    "\n",
    "* Adding more labels, still the values of the labels and their corresponding class labels match. "
   ]
  },
  {
   "cell_type": "code",
   "execution_count": 4,
   "id": "dd73c09c-0e2f-4adc-90bf-25c85adc5305",
   "metadata": {
    "execution": {
     "iopub.execute_input": "2024-02-22T02:03:43.972047Z",
     "iopub.status.busy": "2024-02-22T02:03:43.971453Z",
     "iopub.status.idle": "2024-02-22T02:03:43.979211Z",
     "shell.execute_reply": "2024-02-22T02:03:43.978344Z"
    }
   },
   "outputs": [
    {
     "name": "stdout",
     "output_type": "stream",
     "text": [
      "['classified instances', 'classifications correct (percent)', 'Kappa Statistic (percent)', 'Kappa Temporal Statistic (percent)', 'Kappa M Statistic (percent)', 'F1 Score (percent)', 'F1 Score for class 0 (percent)', 'F1 Score for class 1 (percent)', 'F1 Score for class 2 (percent)', 'Precision (percent)', 'Precision for class 0 (percent)', 'Precision for class 1 (percent)', 'Precision for class 2 (percent)', 'Recall (percent)', 'Recall for class 0 (percent)', 'Recall for class 1 (percent)', 'Recall for class 2 (percent)']\n",
      "[6.0, 50.0, 25.0, -49.999999999999986, 0.0, 43.74999999999999, nan, 80.0, 50.0, 50.0, 0.0, 100.0, 50.0, 38.888888888888886, 0.0, 66.66666666666666, 50.0]\n"
     ]
    }
   ],
   "source": [
    "schema = Schema(labels=[0,1,2])\n",
    "evaluator = ClassificationEvaluator(schema=schema, precision_per_class=True)\n",
    "\n",
    "evaluator.update(0, 2)\n",
    "evaluator.update(1, 1)\n",
    "evaluator.update(1, 1)\n",
    "evaluator.update(1, 0)\n",
    "evaluator.update(2, 2)\n",
    "evaluator.update(2, 0)\n",
    "\n",
    "print(evaluator.metrics_header())\n",
    "print(evaluator.metrics())"
   ]
  },
  {
   "attachments": {},
   "cell_type": "markdown",
   "id": "7fc9a892-3673-4019-8f46-309ff3431b20",
   "metadata": {},
   "source": [
    "## Test ClassificationEvaluator 3\n",
    "\n",
    "* The class label values are strings. Using it as expected, providing ```y``` and ```y_pred``` as strings corresponding to possible values. "
   ]
  },
  {
   "cell_type": "code",
   "execution_count": 5,
   "id": "64458fd0-1f88-48c2-a532-b19b48ce9472",
   "metadata": {
    "execution": {
     "iopub.execute_input": "2024-02-22T02:03:43.983242Z",
     "iopub.status.busy": "2024-02-22T02:03:43.982905Z",
     "iopub.status.idle": "2024-02-22T02:03:43.990637Z",
     "shell.execute_reply": "2024-02-22T02:03:43.989773Z"
    }
   },
   "outputs": [
    {
     "name": "stdout",
     "output_type": "stream",
     "text": [
      "['classified instances', 'classifications correct (percent)', 'Kappa Statistic (percent)', 'Kappa Temporal Statistic (percent)', 'Kappa M Statistic (percent)', 'F1 Score (percent)', 'F1 Score for class 0 (percent)', 'F1 Score for class 1 (percent)', 'F1 Score for class 2 (percent)', 'Precision (percent)', 'Precision for class 0 (percent)', 'Precision for class 1 (percent)', 'Precision for class 2 (percent)', 'Recall (percent)', 'Recall for class 0 (percent)', 'Recall for class 1 (percent)', 'Recall for class 2 (percent)']\n",
      "[4.0, 75.0, 55.55555555555556, 75.0, 0.0, nan, 100.0, 80.0, nan, nan, 100.0, 66.66666666666666, nan, 66.66666666666666, 100.0, 100.0, 0.0]\n"
     ]
    }
   ],
   "source": [
    "schema = Schema(labels=[\"zero\",\"one\",\"two\"])\n",
    "evaluator = ClassificationEvaluator(schema=schema, recall_per_class=True)\n",
    "\n",
    "evaluator.update(\"one\", \"one\")\n",
    "evaluator.update(\"zero\", \"zero\")\n",
    "evaluator.update(\"one\", \"one\")\n",
    "evaluator.update(\"two\", \"one\")\n",
    "\n",
    "print(evaluator.metrics_header())\n",
    "print(evaluator.metrics())"
   ]
  },
  {
   "attachments": {},
   "cell_type": "markdown",
   "id": "86c54288-07c8-44cf-bed2-72f03e2442b3",
   "metadata": {},
   "source": [
    "## Test ClassificationEvaluator 4\n",
    "\n",
    "* Example using an index in the ```y_pred``` while the ```y``` is provided as a value corresponding to the original labels in the schema. * It works as expected, since the value provided in ```y_pred``` is not a value it is interpreted as an index.\n",
    "\n",
    "```evaluator.update(\"banana\", 0)```"
   ]
  },
  {
   "cell_type": "code",
   "execution_count": 6,
   "id": "6ea3c19f-4ef8-4289-9af0-9949936c1f77",
   "metadata": {
    "execution": {
     "iopub.execute_input": "2024-02-22T02:03:43.994646Z",
     "iopub.status.busy": "2024-02-22T02:03:43.994275Z",
     "iopub.status.idle": "2024-02-22T02:03:44.002772Z",
     "shell.execute_reply": "2024-02-22T02:03:44.001857Z"
    }
   },
   "outputs": [
    {
     "name": "stdout",
     "output_type": "stream",
     "text": [
      "['classified instances', 'classifications correct (percent)', 'Kappa Statistic (percent)', 'Kappa Temporal Statistic (percent)', 'Kappa M Statistic (percent)', 'F1 Score (percent)', 'F1 Score for class 0 (percent)', 'F1 Score for class 1 (percent)', 'F1 Score for class 2 (percent)', 'Precision (percent)', 'Precision for class 0 (percent)', 'Precision for class 1 (percent)', 'Precision for class 2 (percent)', 'Recall (percent)', 'Recall for class 0 (percent)', 'Recall for class 1 (percent)', 'Recall for class 2 (percent)']\n",
      "[4.0, 75.0, 63.63636363636363, 75.0, 0.0, 83.33333333333334, 66.66666666666666, 100.0, 66.66666666666666, 83.33333333333334, 50.0, 100.0, 100.0, 83.33333333333334, 100.0, 100.0, 50.0]\n"
     ]
    }
   ],
   "source": [
    "schema = Schema(labels=[\"banana\",\"apple\",\"plane\"])\n",
    "evaluator = ClassificationEvaluator(schema=schema, f1_per_class=True)\n",
    "\n",
    "evaluator.update(\"plane\", \"banana\")\n",
    "evaluator.update(\"banana\", 0) ## y=\"banana\" and y_pred= index 0, surprisingly this works. \n",
    "evaluator.update(\"plane\", \"plane\")\n",
    "evaluator.update(\"apple\", \"apple\")\n",
    "\n",
    "print(evaluator.metrics_header())\n",
    "\n",
    "print(evaluator.metrics())"
   ]
  },
  {
   "attachments": {},
   "cell_type": "markdown",
   "id": "eb15f752-7b9f-473b-85bd-7570bbd35069",
   "metadata": {},
   "source": [
    "## Test ClassificationEvaluator 5\n",
    "* Example where we have the label values, but the ```y_pred``` and ```y``` are only provided as integers\n",
    "* ~Working as expected, both ```y_pred``` and ```y``` can not be found in the list of values ```[\"banana\",\"apple\",\"plane\"]```, therefore the update function uses then as indexes.~\n",
    "* Changed this behavior as of 16/02/2024, the predictions and y values must be of the same type (i.e. match whatever were the original values). The previous approach allowed users to mix indexes with actual values, which could lead to confusion. "
   ]
  },
  {
   "cell_type": "code",
   "execution_count": 7,
   "id": "dcd3a902-6271-463d-a4fc-04f04bb1a723",
   "metadata": {
    "execution": {
     "iopub.execute_input": "2024-02-22T02:03:44.007227Z",
     "iopub.status.busy": "2024-02-22T02:03:44.006688Z",
     "iopub.status.idle": "2024-02-22T02:03:44.015698Z",
     "shell.execute_reply": "2024-02-22T02:03:44.014743Z"
    }
   },
   "outputs": [
    {
     "name": "stdout",
     "output_type": "stream",
     "text": [
      "['classified instances', 'classifications correct (percent)', 'Kappa Statistic (percent)', 'Kappa Temporal Statistic (percent)', 'Kappa M Statistic (percent)', 'F1 Score (percent)', 'F1 Score for class 0 (percent)', 'F1 Score for class 1 (percent)', 'F1 Score for class 2 (percent)', 'Precision (percent)', 'Precision for class 0 (percent)', 'Precision for class 1 (percent)', 'Precision for class 2 (percent)', 'Recall (percent)', 'Recall for class 0 (percent)', 'Recall for class 1 (percent)', 'Recall for class 2 (percent)']\n",
      "[4.0, 75.0, 63.63636363636363, 75.0, 0.0, 83.33333333333334, 66.66666666666666, 100.0, 66.66666666666666, 83.33333333333334, 50.0, 100.0, 100.0, 83.33333333333334, 100.0, 100.0, 50.0]\n"
     ]
    }
   ],
   "source": [
    "schema = Schema(labels=[\"banana\",\"apple\",\"plane\"])\n",
    "evaluator = ClassificationEvaluator(schema=schema, f1_precision_recall=True)\n",
    "\n",
    "# Old version, this used to work\n",
    "# evaluator.update(2, 0)\n",
    "# evaluator.update(0, 0)\n",
    "# evaluator.update(2, 2)\n",
    "# evaluator.update(1, 1)\n",
    "\n",
    "# Must be like this now\n",
    "evaluator.update(\"plane\", \"banana\")\n",
    "evaluator.update(\"banana\", \"banana\")\n",
    "evaluator.update(\"plane\", \"plane\")\n",
    "evaluator.update(\"apple\", \"apple\")\n",
    "\n",
    "print(evaluator.metrics_header())\n",
    "\n",
    "print(evaluator.metrics())"
   ]
  },
  {
   "attachments": {},
   "cell_type": "markdown",
   "id": "f5930a45-a4f1-486a-b21d-1916418b8237",
   "metadata": {},
   "source": [
    "## Test ClassificationEvaluator 6\n",
    "* The label values are 5, 3 and 1, ~which could have been interpreted as indexes, but first the evaluator checks if the value exists in the value list.~ The parameters to update() are **only** interpreted as values now. \n",
    "* This is an example of ```y``` and ```y_pred``` being correctly identified as values"
   ]
  },
  {
   "cell_type": "code",
   "execution_count": 8,
   "id": "b3741d4b-46fb-44f8-9adc-4c4734f0733d",
   "metadata": {
    "execution": {
     "iopub.execute_input": "2024-02-22T02:03:44.020309Z",
     "iopub.status.busy": "2024-02-22T02:03:44.019877Z",
     "iopub.status.idle": "2024-02-22T02:03:44.030464Z",
     "shell.execute_reply": "2024-02-22T02:03:44.029268Z"
    }
   },
   "outputs": [
    {
     "name": "stdout",
     "output_type": "stream",
     "text": [
      "['classified instances', 'classifications correct (percent)', 'Kappa Statistic (percent)', 'Kappa Temporal Statistic (percent)', 'Kappa M Statistic (percent)', 'F1 Score (percent)', 'F1 Score for class 0 (percent)', 'F1 Score for class 1 (percent)', 'F1 Score for class 2 (percent)', 'Precision (percent)', 'Precision for class 0 (percent)', 'Precision for class 1 (percent)', 'Precision for class 2 (percent)', 'Recall (percent)', 'Recall for class 0 (percent)', 'Recall for class 1 (percent)', 'Recall for class 2 (percent)']\n",
      "[4.0, 75.0, 63.63636363636363, 50.0, 50.0, 83.33333333333334, 66.66666666666666, 100.0, 66.66666666666666, 83.33333333333334, 100.0, 100.0, 50.0, 83.33333333333334, 50.0, 100.0, 100.0]\n"
     ]
    }
   ],
   "source": [
    "schema = Schema(labels=[5,3,1])\n",
    "evaluator = ClassificationEvaluator(schema=schema, f1_precision_recall=True)\n",
    "\n",
    "evaluator.update(5, 1)\n",
    "evaluator.update(5, 5)\n",
    "evaluator.update(3, 3)\n",
    "evaluator.update(1, 1)\n",
    "\n",
    "print(evaluator.metrics_header())\n",
    "\n",
    "print(evaluator.metrics())"
   ]
  },
  {
   "attachments": {},
   "cell_type": "markdown",
   "id": "46c9f6c9-6aa4-4346-b351-75ca401cfd89",
   "metadata": {},
   "source": [
    "## Test ClassificationEvaluator 7\n",
    "* The label values are 5, 3 and 1.\n",
    "* if the ```y``` value is not a valid class label, update() will throw an exception\n",
    "* if ```y_pred``` is not a valid class label, update() will continue assuming a default class (whichever is on index 0). That is why the following code doesn't raise an error, but if we were to put any value in the ```y``` that didn't correspond to a valid class value then an error would be raised. \n",
    "* ~What happens if we use integers that don't belong to the label values list but can be interpreted as valid indexes?~\n",
    "* ~It works, but it is confusing...~\n",
    "* ~**This is an example of how the ClassificationEvaluator shouldn't be used!**~\n",
    "\n",
    "**This test was updated, update() always interpret the parameters ```y``` and ```y_pred``` as values**"
   ]
  },
  {
   "cell_type": "code",
   "execution_count": 9,
   "id": "c24c1547-371a-47d3-adbd-f873bd4e461e",
   "metadata": {
    "execution": {
     "iopub.execute_input": "2024-02-22T02:03:44.035440Z",
     "iopub.status.busy": "2024-02-22T02:03:44.034790Z",
     "iopub.status.idle": "2024-02-22T02:03:44.045373Z",
     "shell.execute_reply": "2024-02-22T02:03:44.044368Z"
    }
   },
   "outputs": [
    {
     "name": "stdout",
     "output_type": "stream",
     "text": [
      "['classified instances', 'classifications correct (percent)', 'Kappa Statistic (percent)', 'Kappa Temporal Statistic (percent)', 'Kappa M Statistic (percent)', 'F1 Score (percent)', 'F1 Score for class 0 (percent)', 'F1 Score for class 1 (percent)', 'F1 Score for class 2 (percent)', 'Precision (percent)', 'Precision for class 0 (percent)', 'Precision for class 1 (percent)', 'Precision for class 2 (percent)', 'Recall (percent)', 'Recall for class 0 (percent)', 'Recall for class 1 (percent)', 'Recall for class 2 (percent)']\n",
      "[4.0, 75.0, 60.0, 50.0, 50.0, nan, 100.0, nan, 66.66666666666666, nan, 100.0, nan, 50.0, 66.66666666666666, 100.0, 0.0, 100.0]\n"
     ]
    }
   ],
   "source": [
    "# The label values are 5, 3 and 1. What happens if we use integers that do not \n",
    "# belong to the label list values but can be interpreted as valid indexes? It works, but it is confusing... \n",
    "schema = Schema(labels=[5,3,1])\n",
    "evaluator = ClassificationEvaluator(schema=schema, f1_precision_recall=True)\n",
    "\n",
    "evaluator.update(5, 0)\n",
    "evaluator.update(5, 0)\n",
    "evaluator.update(3, 1) \n",
    "evaluator.update(1, 1)\n",
    "\n",
    "print(evaluator.metrics_header())\n",
    "\n",
    "print(evaluator.metrics())"
   ]
  },
  {
   "attachments": {},
   "cell_type": "markdown",
   "id": "cfef740d-0bf6-4af1-9e4b-59b02b773b28",
   "metadata": {},
   "source": [
    "## Test ClassificationEvaluator 8\n",
    "* Using the header from a MOA stream (in this case, a generator) to specify the header"
   ]
  },
  {
   "cell_type": "code",
   "execution_count": 10,
   "id": "6f940410-8866-448c-825c-5e06ba61ed54",
   "metadata": {
    "execution": {
     "iopub.execute_input": "2024-02-22T02:03:44.050002Z",
     "iopub.status.busy": "2024-02-22T02:03:44.049529Z",
     "iopub.status.idle": "2024-02-22T02:03:44.062685Z",
     "shell.execute_reply": "2024-02-22T02:03:44.061612Z"
    }
   },
   "outputs": [
    {
     "name": "stdout",
     "output_type": "stream",
     "text": [
      "[0, 1, 2, 3]\n",
      "['class1', 'class2', 'class3', 'class4']\n"
     ]
    }
   ],
   "source": [
    "from moa.streams.generators import RandomTreeGenerator\n",
    "\n",
    "rtg = RandomTreeGenerator()\n",
    "# Setting parameters using setViaCLIString\n",
    "rtg.getOptions().setViaCLIString(\"-c 4 -u 10 -o 0\")\n",
    "rtg.prepareForUse()\n",
    "\n",
    "schema = Schema(moa_header=rtg.getHeader())\n",
    "\n",
    "print(schema.get_label_indexes())\n",
    "print(schema.get_label_values())"
   ]
  },
  {
   "attachments": {},
   "cell_type": "markdown",
   "id": "065b390f-fc1a-464b-8416-45a5be600528",
   "metadata": {},
   "source": [
    "## Test ClassificationEvaluator 9\n",
    "* Checking the behavior when the prediction is None"
   ]
  },
  {
   "cell_type": "code",
   "execution_count": 11,
   "id": "0b1b7972-5175-40a3-97bc-edd29aeabe8d",
   "metadata": {
    "execution": {
     "iopub.execute_input": "2024-02-22T02:03:44.067311Z",
     "iopub.status.busy": "2024-02-22T02:03:44.066825Z",
     "iopub.status.idle": "2024-02-22T02:03:44.081779Z",
     "shell.execute_reply": "2024-02-22T02:03:44.080679Z"
    }
   },
   "outputs": [
    {
     "name": "stdout",
     "output_type": "stream",
     "text": [
      "['classified instances', 'classifications correct (percent)', 'Kappa Statistic (percent)', 'Kappa Temporal Statistic (percent)', 'Kappa M Statistic (percent)', 'F1 Score (percent)', 'F1 Score for class 0 (percent)', 'F1 Score for class 1 (percent)', 'F1 Score for class 2 (percent)', 'Precision (percent)', 'Precision for class 0 (percent)', 'Precision for class 1 (percent)', 'Precision for class 2 (percent)', 'Recall (percent)', 'Recall for class 0 (percent)', 'Recall for class 1 (percent)', 'Recall for class 2 (percent)']\n",
      "[10.0, 30.0, 10.25641025641025, -40.0, -16.666666666666675, nan, 36.36363636363636, 40.0, nan, nan, 22.22222222222222, 100.0, nan, 41.66666666666667, 100.0, 25.0, 0.0]\n",
      "30.0\n"
     ]
    }
   ],
   "source": [
    "schema = Schema(labels=[0,1,2])\n",
    "evaluator = ClassificationEvaluator(schema=schema, recall_per_class=True)\n",
    "\n",
    "evaluator.update(0, None)\n",
    "evaluator.update(1, None)\n",
    "evaluator.update(1, 1)\n",
    "evaluator.update(1, None)\n",
    "evaluator.update(2, None)\n",
    "evaluator.update(2, None)\n",
    "evaluator.update(1, None)\n",
    "evaluator.update(2, None)\n",
    "evaluator.update(2, None)\n",
    "evaluator.update(0, None)\n",
    "\n",
    "print(evaluator.metrics_header())\n",
    "print(evaluator.metrics())\n",
    "print(evaluator.accuracy())"
   ]
  },
  {
   "attachments": {},
   "cell_type": "markdown",
   "id": "7ef8d1fb-1be8-49da-a80f-765d4785320a",
   "metadata": {},
   "source": [
    "## Test ClassificationEvaluator 10\n",
    "\n",
    "* Using the ClassificationWindowedEvaluator"
   ]
  },
  {
   "cell_type": "code",
   "execution_count": 12,
   "id": "a1a3f50c-fa77-4bdc-8105-597512670034",
   "metadata": {
    "execution": {
     "iopub.execute_input": "2024-02-22T02:03:44.086381Z",
     "iopub.status.busy": "2024-02-22T02:03:44.085910Z",
     "iopub.status.idle": "2024-02-22T02:03:44.116809Z",
     "shell.execute_reply": "2024-02-22T02:03:44.115905Z"
    }
   },
   "outputs": [
    {
     "name": "stdout",
     "output_type": "stream",
     "text": [
      "['classified instances', 'classifications correct (percent)', 'Kappa Statistic (percent)', 'Kappa Temporal Statistic (percent)', 'Kappa M Statistic (percent)', 'F1 Score (percent)', 'F1 Score for class 0 (percent)', 'F1 Score for class 1 (percent)', 'Precision (percent)', 'Precision for class 0 (percent)', 'Precision for class 1 (percent)', 'Recall (percent)', 'Recall for class 0 (percent)', 'Recall for class 1 (percent)']\n",
      "[12.0, 33.33333333333333, 0.0, -99.99999999999999, -99.99999999999999, nan, 50.0, nan, 50.0, 100.0, 0.0, nan, 33.33333333333333, nan]\n"
     ]
    },
    {
     "data": {
      "text/html": [
       "<div>\n",
       "<style scoped>\n",
       "    .dataframe tbody tr th:only-of-type {\n",
       "        vertical-align: middle;\n",
       "    }\n",
       "\n",
       "    .dataframe tbody tr th {\n",
       "        vertical-align: top;\n",
       "    }\n",
       "\n",
       "    .dataframe thead th {\n",
       "        text-align: right;\n",
       "    }\n",
       "</style>\n",
       "<table border=\"1\" class=\"dataframe\">\n",
       "  <thead>\n",
       "    <tr style=\"text-align: right;\">\n",
       "      <th></th>\n",
       "      <th>classified instances</th>\n",
       "      <th>classifications correct (percent)</th>\n",
       "      <th>Kappa Statistic (percent)</th>\n",
       "      <th>Kappa Temporal Statistic (percent)</th>\n",
       "      <th>Kappa M Statistic (percent)</th>\n",
       "      <th>F1 Score (percent)</th>\n",
       "      <th>F1 Score for class 0 (percent)</th>\n",
       "      <th>F1 Score for class 1 (percent)</th>\n",
       "      <th>Precision (percent)</th>\n",
       "      <th>Precision for class 0 (percent)</th>\n",
       "      <th>Precision for class 1 (percent)</th>\n",
       "      <th>Recall (percent)</th>\n",
       "      <th>Recall for class 0 (percent)</th>\n",
       "      <th>Recall for class 1 (percent)</th>\n",
       "    </tr>\n",
       "  </thead>\n",
       "  <tbody>\n",
       "    <tr>\n",
       "      <th>0</th>\n",
       "      <td>3.0</td>\n",
       "      <td>33.333333</td>\n",
       "      <td>-50.0</td>\n",
       "      <td>0.0</td>\n",
       "      <td>-100.0</td>\n",
       "      <td>25.0</td>\n",
       "      <td>NaN</td>\n",
       "      <td>50.0</td>\n",
       "      <td>25.0</td>\n",
       "      <td>0.0</td>\n",
       "      <td>50.0</td>\n",
       "      <td>25.0</td>\n",
       "      <td>0.000000</td>\n",
       "      <td>50.0</td>\n",
       "    </tr>\n",
       "    <tr>\n",
       "      <th>1</th>\n",
       "      <td>6.0</td>\n",
       "      <td>100.000000</td>\n",
       "      <td>NaN</td>\n",
       "      <td>100.0</td>\n",
       "      <td>NaN</td>\n",
       "      <td>NaN</td>\n",
       "      <td>NaN</td>\n",
       "      <td>100.0</td>\n",
       "      <td>NaN</td>\n",
       "      <td>NaN</td>\n",
       "      <td>100.0</td>\n",
       "      <td>NaN</td>\n",
       "      <td>NaN</td>\n",
       "      <td>100.0</td>\n",
       "    </tr>\n",
       "    <tr>\n",
       "      <th>2</th>\n",
       "      <td>9.0</td>\n",
       "      <td>100.000000</td>\n",
       "      <td>NaN</td>\n",
       "      <td>NaN</td>\n",
       "      <td>NaN</td>\n",
       "      <td>NaN</td>\n",
       "      <td>NaN</td>\n",
       "      <td>100.0</td>\n",
       "      <td>NaN</td>\n",
       "      <td>NaN</td>\n",
       "      <td>100.0</td>\n",
       "      <td>NaN</td>\n",
       "      <td>NaN</td>\n",
       "      <td>100.0</td>\n",
       "    </tr>\n",
       "    <tr>\n",
       "      <th>3</th>\n",
       "      <td>12.0</td>\n",
       "      <td>33.333333</td>\n",
       "      <td>0.0</td>\n",
       "      <td>-100.0</td>\n",
       "      <td>-100.0</td>\n",
       "      <td>NaN</td>\n",
       "      <td>50.0</td>\n",
       "      <td>NaN</td>\n",
       "      <td>50.0</td>\n",
       "      <td>100.0</td>\n",
       "      <td>0.0</td>\n",
       "      <td>NaN</td>\n",
       "      <td>33.333333</td>\n",
       "      <td>NaN</td>\n",
       "    </tr>\n",
       "  </tbody>\n",
       "</table>\n",
       "</div>"
      ],
      "text/plain": [
       "   classified instances  classifications correct (percent)  \\\n",
       "0                   3.0                          33.333333   \n",
       "1                   6.0                         100.000000   \n",
       "2                   9.0                         100.000000   \n",
       "3                  12.0                          33.333333   \n",
       "\n",
       "   Kappa Statistic (percent)  Kappa Temporal Statistic (percent)  \\\n",
       "0                      -50.0                                 0.0   \n",
       "1                        NaN                               100.0   \n",
       "2                        NaN                                 NaN   \n",
       "3                        0.0                              -100.0   \n",
       "\n",
       "   Kappa M Statistic (percent)  F1 Score (percent)  \\\n",
       "0                       -100.0                25.0   \n",
       "1                          NaN                 NaN   \n",
       "2                          NaN                 NaN   \n",
       "3                       -100.0                 NaN   \n",
       "\n",
       "   F1 Score for class 0 (percent)  F1 Score for class 1 (percent)  \\\n",
       "0                             NaN                            50.0   \n",
       "1                             NaN                           100.0   \n",
       "2                             NaN                           100.0   \n",
       "3                            50.0                             NaN   \n",
       "\n",
       "   Precision (percent)  Precision for class 0 (percent)  \\\n",
       "0                 25.0                              0.0   \n",
       "1                  NaN                              NaN   \n",
       "2                  NaN                              NaN   \n",
       "3                 50.0                            100.0   \n",
       "\n",
       "   Precision for class 1 (percent)  Recall (percent)  \\\n",
       "0                             50.0              25.0   \n",
       "1                            100.0               NaN   \n",
       "2                            100.0               NaN   \n",
       "3                              0.0               NaN   \n",
       "\n",
       "   Recall for class 0 (percent)  Recall for class 1 (percent)  \n",
       "0                      0.000000                          50.0  \n",
       "1                           NaN                         100.0  \n",
       "2                           NaN                         100.0  \n",
       "3                     33.333333                           NaN  "
      ]
     },
     "execution_count": 12,
     "metadata": {},
     "output_type": "execute_result"
    }
   ],
   "source": [
    "schema = Schema(labels=[0,1])\n",
    "evaluator = ClassificationWindowedEvaluator(schema=schema, window_size=3)\n",
    "\n",
    "evaluator.update(1, 0)\n",
    "evaluator.update(1, 1)\n",
    "evaluator.update(0, 1)\n",
    "\n",
    "evaluator.update(1, 1)\n",
    "evaluator.update(1, 1)\n",
    "evaluator.update(1, 1)\n",
    "\n",
    "evaluator.update(1, 1)\n",
    "evaluator.update(1, 1)\n",
    "evaluator.update(1, 1)\n",
    "\n",
    "evaluator.update(0, 1)\n",
    "evaluator.update(0, 1)\n",
    "evaluator.update(0, 0)\n",
    "\n",
    "\n",
    "print(evaluator.metrics_header())\n",
    "print(evaluator.metrics())\n",
    "evaluator.metrics_per_window()"
   ]
  },
  {
   "attachments": {},
   "cell_type": "markdown",
   "id": "7ec076e8-7e7d-4029-b983-ed5ee0de35a6",
   "metadata": {},
   "source": [
    "## **IMPORTANT**: Window size does not perfectly divides the number os instances processed\n",
    "\n",
    "* In these cases, the user wanting to use ```ClassificationWindowedEvaluator``` directly must know that the results for the last window (which is smaller than ```window_size```) are available through the ```metrics()```, i.e. the last results observed for the stream.\n",
    "* If the user is using ```windowed_evaluation``` or ```prequential_evaluation``` (and variants) the user does not need to worry about this"
   ]
  },
  {
   "cell_type": "code",
   "execution_count": 13,
   "id": "73b739b9-60dc-4975-afb9-5d74e8abad99",
   "metadata": {
    "execution": {
     "iopub.execute_input": "2024-02-22T02:03:44.121535Z",
     "iopub.status.busy": "2024-02-22T02:03:44.121139Z",
     "iopub.status.idle": "2024-02-22T02:03:44.142154Z",
     "shell.execute_reply": "2024-02-22T02:03:44.141280Z"
    }
   },
   "outputs": [
    {
     "name": "stdout",
     "output_type": "stream",
     "text": [
      "['classified instances', 'classifications correct (percent)', 'Kappa Statistic (percent)', 'Kappa Temporal Statistic (percent)', 'Kappa M Statistic (percent)', 'F1 Score (percent)', 'F1 Score for class 0 (percent)', 'F1 Score for class 1 (percent)', 'Precision (percent)', 'Precision for class 0 (percent)', 'Precision for class 1 (percent)', 'Recall (percent)', 'Recall for class 0 (percent)', 'Recall for class 1 (percent)']\n",
      "[12.0, 60.0, 28.57142857142856, -100.00000000000007, 0.0, 70.58823529411765, 50.0, 66.66666666666666, 75.0, 100.0, 50.0, 66.66666666666666, 33.33333333333333, 100.0]\n"
     ]
    },
    {
     "data": {
      "text/html": [
       "<div>\n",
       "<style scoped>\n",
       "    .dataframe tbody tr th:only-of-type {\n",
       "        vertical-align: middle;\n",
       "    }\n",
       "\n",
       "    .dataframe tbody tr th {\n",
       "        vertical-align: top;\n",
       "    }\n",
       "\n",
       "    .dataframe thead th {\n",
       "        text-align: right;\n",
       "    }\n",
       "</style>\n",
       "<table border=\"1\" class=\"dataframe\">\n",
       "  <thead>\n",
       "    <tr style=\"text-align: right;\">\n",
       "      <th></th>\n",
       "      <th>classified instances</th>\n",
       "      <th>classifications correct (percent)</th>\n",
       "      <th>Kappa Statistic (percent)</th>\n",
       "      <th>Kappa Temporal Statistic (percent)</th>\n",
       "      <th>Kappa M Statistic (percent)</th>\n",
       "      <th>F1 Score (percent)</th>\n",
       "      <th>F1 Score for class 0 (percent)</th>\n",
       "      <th>F1 Score for class 1 (percent)</th>\n",
       "      <th>Precision (percent)</th>\n",
       "      <th>Precision for class 0 (percent)</th>\n",
       "      <th>Precision for class 1 (percent)</th>\n",
       "      <th>Recall (percent)</th>\n",
       "      <th>Recall for class 0 (percent)</th>\n",
       "      <th>Recall for class 1 (percent)</th>\n",
       "    </tr>\n",
       "  </thead>\n",
       "  <tbody>\n",
       "    <tr>\n",
       "      <th>0</th>\n",
       "      <td>5.0</td>\n",
       "      <td>60.0</td>\n",
       "      <td>-25.0</td>\n",
       "      <td>33.333333</td>\n",
       "      <td>-100.0</td>\n",
       "      <td>37.5</td>\n",
       "      <td>NaN</td>\n",
       "      <td>75.000000</td>\n",
       "      <td>37.5</td>\n",
       "      <td>0.0</td>\n",
       "      <td>75.0</td>\n",
       "      <td>37.5</td>\n",
       "      <td>0.0</td>\n",
       "      <td>75.0</td>\n",
       "    </tr>\n",
       "    <tr>\n",
       "      <th>1</th>\n",
       "      <td>10.0</td>\n",
       "      <td>80.0</td>\n",
       "      <td>0.0</td>\n",
       "      <td>0.000000</td>\n",
       "      <td>0.0</td>\n",
       "      <td>NaN</td>\n",
       "      <td>NaN</td>\n",
       "      <td>88.888889</td>\n",
       "      <td>NaN</td>\n",
       "      <td>NaN</td>\n",
       "      <td>80.0</td>\n",
       "      <td>50.0</td>\n",
       "      <td>0.0</td>\n",
       "      <td>100.0</td>\n",
       "    </tr>\n",
       "  </tbody>\n",
       "</table>\n",
       "</div>"
      ],
      "text/plain": [
       "   classified instances  classifications correct (percent)  \\\n",
       "0                   5.0                               60.0   \n",
       "1                  10.0                               80.0   \n",
       "\n",
       "   Kappa Statistic (percent)  Kappa Temporal Statistic (percent)  \\\n",
       "0                      -25.0                           33.333333   \n",
       "1                        0.0                            0.000000   \n",
       "\n",
       "   Kappa M Statistic (percent)  F1 Score (percent)  \\\n",
       "0                       -100.0                37.5   \n",
       "1                          0.0                 NaN   \n",
       "\n",
       "   F1 Score for class 0 (percent)  F1 Score for class 1 (percent)  \\\n",
       "0                             NaN                       75.000000   \n",
       "1                             NaN                       88.888889   \n",
       "\n",
       "   Precision (percent)  Precision for class 0 (percent)  \\\n",
       "0                 37.5                              0.0   \n",
       "1                  NaN                              NaN   \n",
       "\n",
       "   Precision for class 1 (percent)  Recall (percent)  \\\n",
       "0                             75.0              37.5   \n",
       "1                             80.0              50.0   \n",
       "\n",
       "   Recall for class 0 (percent)  Recall for class 1 (percent)  \n",
       "0                           0.0                          75.0  \n",
       "1                           0.0                         100.0  "
      ]
     },
     "execution_count": 13,
     "metadata": {},
     "output_type": "execute_result"
    }
   ],
   "source": [
    "schema = Schema(labels=[0,1])\n",
    "evaluator = ClassificationWindowedEvaluator(schema=schema, window_size=5)\n",
    "\n",
    "evaluator.update(1, 0)\n",
    "evaluator.update(1, 1)\n",
    "evaluator.update(0, 1)\n",
    "\n",
    "evaluator.update(1, 1)\n",
    "evaluator.update(1, 1)\n",
    "evaluator.update(1, 1)\n",
    "\n",
    "evaluator.update(1, 1)\n",
    "evaluator.update(1, 1)\n",
    "evaluator.update(1, 1)\n",
    "\n",
    "evaluator.update(0, 1)\n",
    "evaluator.update(0, 1)\n",
    "evaluator.update(0, 0)\n",
    "\n",
    "\n",
    "print(evaluator.metrics_header())\n",
    "print(evaluator.metrics()) # Results for the last window.\n",
    "evaluator.metrics_per_window()"
   ]
  },
  {
   "attachments": {},
   "cell_type": "markdown",
   "id": "5fe53bb2-d894-456c-9977-d7f59f467f4b",
   "metadata": {},
   "source": [
    "# Integration tests with ```MOA``` and ```River```\n"
   ]
  },
  {
   "attachments": {},
   "cell_type": "markdown",
   "id": "97fc6d27-2424-4966-893a-54727f569eba",
   "metadata": {},
   "source": [
    "## Using a simple test-then-train loop with the MOA ARF class\n",
    "\n",
    "* It is expected that the behavior of the ```ClassificationEvaluator``` mimics the ```BasicClassificationPerformanceEvaluator```\n",
    "* This example does not use the ```ClassificationEvaluator```"
   ]
  },
  {
   "cell_type": "code",
   "execution_count": 14,
   "id": "eb7c4331-b390-423d-b645-3cbae4752950",
   "metadata": {
    "execution": {
     "iopub.execute_input": "2024-02-22T02:03:44.146715Z",
     "iopub.status.busy": "2024-02-22T02:03:44.146487Z",
     "iopub.status.idle": "2024-02-22T02:03:46.198978Z",
     "shell.execute_reply": "2024-02-22T02:03:46.197892Z"
    }
   },
   "outputs": [
    {
     "data": {
      "text/html": [
       "<div>\n",
       "<style scoped>\n",
       "    .dataframe tbody tr th:only-of-type {\n",
       "        vertical-align: middle;\n",
       "    }\n",
       "\n",
       "    .dataframe tbody tr th {\n",
       "        vertical-align: top;\n",
       "    }\n",
       "\n",
       "    .dataframe thead th {\n",
       "        text-align: right;\n",
       "    }\n",
       "</style>\n",
       "<table border=\"1\" class=\"dataframe\">\n",
       "  <thead>\n",
       "    <tr style=\"text-align: right;\">\n",
       "      <th></th>\n",
       "      <th>classified instances</th>\n",
       "      <th>classifications correct (percent)</th>\n",
       "      <th>Kappa Statistic (percent)</th>\n",
       "      <th>Kappa Temporal Statistic (percent)</th>\n",
       "      <th>Kappa M Statistic (percent)</th>\n",
       "      <th>Recall for class 0 (percent)</th>\n",
       "      <th>Recall for class 1 (percent)</th>\n",
       "      <th>Recall for class 2 (percent)</th>\n",
       "    </tr>\n",
       "  </thead>\n",
       "  <tbody>\n",
       "    <tr>\n",
       "      <th>0</th>\n",
       "      <td>1000.0</td>\n",
       "      <td>80.400000</td>\n",
       "      <td>65.084048</td>\n",
       "      <td>65.614035</td>\n",
       "      <td>58.995816</td>\n",
       "      <td>90.891473</td>\n",
       "      <td>81.868132</td>\n",
       "      <td>30.833333</td>\n",
       "    </tr>\n",
       "    <tr>\n",
       "      <th>1</th>\n",
       "      <td>2000.0</td>\n",
       "      <td>83.050000</td>\n",
       "      <td>70.631094</td>\n",
       "      <td>70.926244</td>\n",
       "      <td>66.235060</td>\n",
       "      <td>91.111111</td>\n",
       "      <td>86.351706</td>\n",
       "      <td>40.725806</td>\n",
       "    </tr>\n",
       "    <tr>\n",
       "      <th>2</th>\n",
       "      <td>3000.0</td>\n",
       "      <td>86.200000</td>\n",
       "      <td>76.072836</td>\n",
       "      <td>76.138329</td>\n",
       "      <td>72.691293</td>\n",
       "      <td>92.760487</td>\n",
       "      <td>90.557940</td>\n",
       "      <td>44.817927</td>\n",
       "    </tr>\n",
       "    <tr>\n",
       "      <th>3</th>\n",
       "      <td>4000.0</td>\n",
       "      <td>87.875000</td>\n",
       "      <td>79.074292</td>\n",
       "      <td>79.273504</td>\n",
       "      <td>75.906607</td>\n",
       "      <td>93.437658</td>\n",
       "      <td>92.302674</td>\n",
       "      <td>51.234568</td>\n",
       "    </tr>\n",
       "    <tr>\n",
       "      <th>4</th>\n",
       "      <td>5000.0</td>\n",
       "      <td>88.860000</td>\n",
       "      <td>80.862418</td>\n",
       "      <td>81.105834</td>\n",
       "      <td>77.861685</td>\n",
       "      <td>93.946731</td>\n",
       "      <td>93.022036</td>\n",
       "      <td>55.519481</td>\n",
       "    </tr>\n",
       "    <tr>\n",
       "      <th>5</th>\n",
       "      <td>6000.0</td>\n",
       "      <td>89.633333</td>\n",
       "      <td>82.262531</td>\n",
       "      <td>82.528090</td>\n",
       "      <td>79.599869</td>\n",
       "      <td>94.295416</td>\n",
       "      <td>93.771626</td>\n",
       "      <td>58.277254</td>\n",
       "    </tr>\n",
       "    <tr>\n",
       "      <th>6</th>\n",
       "      <td>7000.0</td>\n",
       "      <td>90.242857</td>\n",
       "      <td>83.349126</td>\n",
       "      <td>83.585677</td>\n",
       "      <td>80.884411</td>\n",
       "      <td>94.504531</td>\n",
       "      <td>94.350074</td>\n",
       "      <td>60.734788</td>\n",
       "    </tr>\n",
       "    <tr>\n",
       "      <th>7</th>\n",
       "      <td>8000.0</td>\n",
       "      <td>90.675000</td>\n",
       "      <td>84.135309</td>\n",
       "      <td>84.354027</td>\n",
       "      <td>81.738066</td>\n",
       "      <td>94.755692</td>\n",
       "      <td>94.764228</td>\n",
       "      <td>62.598425</td>\n",
       "    </tr>\n",
       "    <tr>\n",
       "      <th>8</th>\n",
       "      <td>9000.0</td>\n",
       "      <td>90.944444</td>\n",
       "      <td>84.623638</td>\n",
       "      <td>84.791939</td>\n",
       "      <td>82.255606</td>\n",
       "      <td>94.910248</td>\n",
       "      <td>94.918699</td>\n",
       "      <td>63.982684</td>\n",
       "    </tr>\n",
       "    <tr>\n",
       "      <th>9</th>\n",
       "      <td>10000.0</td>\n",
       "      <td>91.160000</td>\n",
       "      <td>85.010699</td>\n",
       "      <td>85.170273</td>\n",
       "      <td>82.615536</td>\n",
       "      <td>94.785089</td>\n",
       "      <td>95.129015</td>\n",
       "      <td>65.738592</td>\n",
       "    </tr>\n",
       "  </tbody>\n",
       "</table>\n",
       "</div>"
      ],
      "text/plain": [
       "   classified instances  classifications correct (percent)  \\\n",
       "0                1000.0                          80.400000   \n",
       "1                2000.0                          83.050000   \n",
       "2                3000.0                          86.200000   \n",
       "3                4000.0                          87.875000   \n",
       "4                5000.0                          88.860000   \n",
       "5                6000.0                          89.633333   \n",
       "6                7000.0                          90.242857   \n",
       "7                8000.0                          90.675000   \n",
       "8                9000.0                          90.944444   \n",
       "9               10000.0                          91.160000   \n",
       "\n",
       "   Kappa Statistic (percent)  Kappa Temporal Statistic (percent)  \\\n",
       "0                  65.084048                           65.614035   \n",
       "1                  70.631094                           70.926244   \n",
       "2                  76.072836                           76.138329   \n",
       "3                  79.074292                           79.273504   \n",
       "4                  80.862418                           81.105834   \n",
       "5                  82.262531                           82.528090   \n",
       "6                  83.349126                           83.585677   \n",
       "7                  84.135309                           84.354027   \n",
       "8                  84.623638                           84.791939   \n",
       "9                  85.010699                           85.170273   \n",
       "\n",
       "   Kappa M Statistic (percent)  Recall for class 0 (percent)  \\\n",
       "0                    58.995816                     90.891473   \n",
       "1                    66.235060                     91.111111   \n",
       "2                    72.691293                     92.760487   \n",
       "3                    75.906607                     93.437658   \n",
       "4                    77.861685                     93.946731   \n",
       "5                    79.599869                     94.295416   \n",
       "6                    80.884411                     94.504531   \n",
       "7                    81.738066                     94.755692   \n",
       "8                    82.255606                     94.910248   \n",
       "9                    82.615536                     94.785089   \n",
       "\n",
       "   Recall for class 1 (percent)  Recall for class 2 (percent)  \n",
       "0                     81.868132                     30.833333  \n",
       "1                     86.351706                     40.725806  \n",
       "2                     90.557940                     44.817927  \n",
       "3                     92.302674                     51.234568  \n",
       "4                     93.022036                     55.519481  \n",
       "5                     93.771626                     58.277254  \n",
       "6                     94.350074                     60.734788  \n",
       "7                     94.764228                     62.598425  \n",
       "8                     94.918699                     63.982684  \n",
       "9                     95.129015                     65.738592  "
      ]
     },
     "execution_count": 14,
     "metadata": {},
     "output_type": "execute_result"
    }
   ],
   "source": [
    "from moa.classifiers.meta import AdaptiveRandomForest\n",
    "from moa.classifiers.trees import HoeffdingTree\n",
    "from moa.core import Example\n",
    "from moa.evaluation import BasicClassificationPerformanceEvaluator\n",
    "from moa.streams.generators import RandomTreeGenerator\n",
    "\n",
    "maxInstancesToProcess = 10000\n",
    "instancesProcessed = 1\n",
    "sampleFrequency = 1000\n",
    "\n",
    "learner = AdaptiveRandomForest()\n",
    "# Setting parameters using setViaCLIString\n",
    "learner.getOptions().setViaCLIString(\"-s 10\")\n",
    "learner.resetLearningImpl()\n",
    "learner.prepareForUse()\n",
    "\n",
    "rtg = RandomTreeGenerator()\n",
    "# Setting parameters using setViaCLIString\n",
    "rtg.getOptions().setViaCLIString(\"-c 3 -u 10 -o 0\")\n",
    "rtg.prepareForUse()\n",
    "\n",
    "# Setting parameters using the option attribute directly\n",
    "evaluator = BasicClassificationPerformanceEvaluator()\n",
    "evaluator.recallPerClassOption.set()\n",
    "evaluator.prepareForUse()\n",
    "\n",
    "learner.setModelContext(rtg.getHeader())\n",
    "\n",
    "# Create empty lists to store the data\n",
    "data = []\n",
    "performance_names = []\n",
    "performance_values = []\n",
    "\n",
    "while rtg.hasMoreInstances() and instancesProcessed <= maxInstancesToProcess:\n",
    "    trainInst = rtg.nextInstance()\n",
    "    testInst = trainInst\n",
    "\n",
    "    prediction = learner.getVotesForInstance(testInst)\n",
    "\n",
    "    evaluator.addResult(testInst, prediction)\n",
    "    learner.trainOnInstance(trainInst)\n",
    "\n",
    "    if instancesProcessed == 1:\n",
    "        performance_measurements = evaluator.getPerformanceMeasurements()\n",
    "        performance_names = [\"\".join(measurement.getName()) for measurement in performance_measurements]\n",
    "\n",
    "    if instancesProcessed % sampleFrequency == 0:\n",
    "        performance_values = [measurement.getValue() for measurement in evaluator.getPerformanceMeasurements()]\n",
    "        data.append(performance_values)\n",
    "    \n",
    "    instancesProcessed += 1\n",
    "\n",
    "# Create a DataFrame using collected data\n",
    "results_df = pd.DataFrame(data, columns=performance_names)\n",
    "\n",
    "# Print the DataFrame\n",
    "results_df"
   ]
  },
  {
   "attachments": {},
   "cell_type": "markdown",
   "id": "c81beca9-5fd8-4c0a-b22c-85d4c0b05d1b",
   "metadata": {},
   "source": [
    "## Using ```ClassificationEvaluator``` and a ```MOA learner``` (AdaptiveRandomForest)"
   ]
  },
  {
   "cell_type": "code",
   "execution_count": 15,
   "id": "9f202299-317d-45db-a62d-747769a958a8",
   "metadata": {
    "execution": {
     "iopub.execute_input": "2024-02-22T02:03:46.203406Z",
     "iopub.status.busy": "2024-02-22T02:03:46.203092Z",
     "iopub.status.idle": "2024-02-22T02:03:47.319098Z",
     "shell.execute_reply": "2024-02-22T02:03:47.318065Z"
    }
   },
   "outputs": [
    {
     "name": "stdout",
     "output_type": "stream",
     "text": [
      "['classified instances', 'classifications correct (percent)', 'Kappa Statistic (percent)', 'Kappa Temporal Statistic (percent)', 'Kappa M Statistic (percent)', 'F1 Score (percent)', 'F1 Score for class 0 (percent)', 'F1 Score for class 1 (percent)', 'F1 Score for class 2 (percent)', 'Precision (percent)', 'Precision for class 0 (percent)', 'Precision for class 1 (percent)', 'Precision for class 2 (percent)', 'Recall (percent)', 'Recall for class 0 (percent)', 'Recall for class 1 (percent)', 'Recall for class 2 (percent)']\n",
      "[10000.0, 91.16, 85.0106988680263, 85.170273444053, 82.61553588987218, 87.10219052615284, 93.47127360385696, 93.50414078674947, 73.40241796200345, 89.07205950104454, 92.19338220725183, 91.93384223918575, 83.088954056696, 85.21756543489148, 94.78508861275209, 95.12901527119536, 65.73859242072699]\n"
     ]
    }
   ],
   "source": [
    "from moa.classifiers.meta import AdaptiveRandomForest\n",
    "from moa.classifiers.trees import HoeffdingTree\n",
    "from moa.core import Example\n",
    "from moa.core import Utils\n",
    "from moa.evaluation import BasicClassificationPerformanceEvaluator\n",
    "from moa.streams.generators import RandomTreeGenerator\n",
    "\n",
    "maxInstancesToProcess = 10000\n",
    "instancesProcessed = 1\n",
    "sampleFrequency = 1000\n",
    "\n",
    "learner = AdaptiveRandomForest()\n",
    "# Setting parameters using setViaCLIString\n",
    "learner.getOptions().setViaCLIString(\"-s 10\")\n",
    "learner.prepareForUse()\n",
    "\n",
    "rtg = RandomTreeGenerator()\n",
    "# Setting parameters using setViaCLIString\n",
    "rtg.getOptions().setViaCLIString(\"-c 3 -u 10 -o 0\")\n",
    "rtg.prepareForUse()\n",
    "\n",
    "# Creating the schema\n",
    "schema = Schema(moa_header=rtg.getHeader())\n",
    "# Setting parameters using the option attribute directly\n",
    "evaluator = ClassificationEvaluator(schema=schema, recall_per_class=True)\n",
    "\n",
    "# learner.setModelContext(rtg.getHeader())\n",
    "\n",
    "# Create empty lists to store the data\n",
    "data = []\n",
    "performance_names = []\n",
    "performance_values = []\n",
    "\n",
    "while rtg.hasMoreInstances() and instancesProcessed <= maxInstancesToProcess:\n",
    "    trainInst = rtg.nextInstance()\n",
    "    testInst = trainInst\n",
    "\n",
    "    prediction = learner.getVotesForInstance(testInst)\n",
    "\n",
    "    # This unholy amount of conversions to get the original value is not needed when we use capymoa directly :)\n",
    "    # This is an example of mixing a high-level function from capymoa (evaluator.update()) with raw usage of MOA objects. \n",
    "    evaluator.update(schema.get_value_for_index(int(testInst.getData().classValue())), \n",
    "                     schema.get_value_for_index(int(Utils.maxIndex(prediction))))\n",
    "    learner.trainOnInstance(trainInst)\n",
    "    \n",
    "    instancesProcessed += 1\n",
    "\n",
    "# Create a DataFrame using collected data\n",
    "print(evaluator.metrics_header())\n",
    "print(evaluator.metrics())"
   ]
  },
  {
   "attachments": {},
   "cell_type": "markdown",
   "id": "7a4b8e3e-1ef2-4b7c-ab1f-8372cfa54d5e",
   "metadata": {},
   "source": [
    "## Using ```ClassificationEvaluator``` and River\n",
    "* Using ```metrics.Accuracy()``` from River and ```ClassificationEvaluator``` defined in the evaluation module"
   ]
  },
  {
   "cell_type": "code",
   "execution_count": 16,
   "id": "e2e98a8c-acff-480c-9c1d-f21262bc5cfa",
   "metadata": {
    "tags": [
     "skip-execution"
    ]
   },
   "outputs": [],
   "source": [
    "#TODO: This cell is skipped because `CSV` files are no longer downloaded. In\n",
    "# the future this will need to be fixed.\n",
    "## River imports\n",
    "from river import stream\n",
    "from river import metrics\n",
    "\n",
    "from river.forest import ARFClassifier\n",
    "import pandas as pd\n",
    "\n",
    "maxInstances=1000\n",
    "sampleFrequency=1000\n",
    "rtg_2abrupt_path = '../data/RTG_2abrupt.csv'\n",
    "dataset = pd.read_csv(rtg_2abrupt_path).to_numpy()\n",
    "\n",
    "model = ARFClassifier(\n",
    "    n_models=5,\n",
    "    max_features=0.20, \n",
    "    seed=1\n",
    ")\n",
    "\n",
    "# Setting the class labels as floats since river only deals with floats. \n",
    "schema = Schema(labels=[1.0, 2.0, 3.0, 4.0, 5.0])\n",
    "# schema = Schema(moa_header=rtg.getHeader())\n",
    "# Setting parameters using the option attribute directly\n",
    "evaluator = ClassificationEvaluator(schema=schema, recall_per_class=True)\n",
    "\n",
    "instancesProcessed = 0\n",
    "accuracy = metrics.Accuracy()\n",
    "cm = metrics.ConfusionMatrix()\n",
    "\n",
    "X, Y = dataset[:, :-1], dataset[:, -1]\n",
    "\n",
    "data = []\n",
    "performance_names = ['Classified instances', 'accuracy']\n",
    "performance_values = []\n",
    "\n",
    "ds = stream.iter_array(X, Y)\n",
    "\n",
    "for (x, y) in ds:\n",
    "    if instancesProcessed > maxInstances:\n",
    "        break\n",
    "\n",
    "    yp = model.predict_one(x)\n",
    "    accuracy.update(y, yp)\n",
    "\n",
    "    # Forces an error in the first prediction because it is None, the default value of 0 would cause it to correctly classify\n",
    "    if yp is None:\n",
    "        yp = 2.0\n",
    "    evaluator.update(y, yp)\n",
    "    \n",
    "    if yp is not None:\n",
    "        cm.update(y,yp)\n",
    "    model.learn_one(x, y)\n",
    "\n",
    "    if instancesProcessed % sampleFrequency == 0:\n",
    "        performance_values = [instancesProcessed, accuracy.get()]\n",
    "        data.append(performance_values)\n",
    "\n",
    "    instancesProcessed += 1\n",
    "\n",
    "    if instancesProcessed == 1:\n",
    "        performance_names = evaluator.metrics_header()\n",
    "\n",
    "    if instancesProcessed % sampleFrequency == 0:\n",
    "        performance_values = evaluator.metrics()\n",
    "        data.append(performance_values)\n",
    "\n",
    "print(f\"{model}, accuracy.get(): {accuracy.get():.6f}, evaluator.accuracy(): {evaluator.accuracy():.4f}\")\n",
    "cm"
   ]
  },
  {
   "cell_type": "code",
   "execution_count": null,
   "id": "3e364565-0a1d-467d-89a6-d3598c4ddd76",
   "metadata": {},
   "outputs": [],
   "source": []
  }
 ],
 "metadata": {
  "kernelspec": {
   "display_name": "Python 3 (ipykernel)",
   "language": "python",
   "name": "python3"
  },
  "language_info": {
   "codemirror_mode": {
    "name": "ipython",
    "version": 3
   },
   "file_extension": ".py",
   "mimetype": "text/x-python",
   "name": "python",
   "nbconvert_exporter": "python",
   "pygments_lexer": "ipython3",
   "version": "3.10.0"
  }
 },
 "nbformat": 4,
 "nbformat_minor": 5
}
