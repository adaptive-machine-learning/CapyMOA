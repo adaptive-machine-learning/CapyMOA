{
 "cells": [
  {
   "metadata": {},
   "cell_type": "markdown",
   "source": "In this tutorial, we illustrate the process of saving and loading a model using CapyMOA. The ElectricityTiny dataset serves as our data source, and we employ the AdaptiveRandomForestClassifier for model training. The trained model is then saved to a file, specifically 'capymoa_model.pkl'. Subsequently, we reload the model from this file and evaluate its performance on the ElectricityTiny dataset once more. As a final step, we delete the model file.",
   "id": "3b115501e7927be"
  },
  {
   "cell_type": "code",
   "id": "b7ca1c5addd95ba3",
   "metadata": {
    "ExecuteTime": {
     "end_time": "2024-05-29T08:18:33.715465Z",
     "start_time": "2024-05-29T08:18:27.317959Z"
    }
   },
   "source": [
    "from capymoa.classifier import AdaptiveRandomForestClassifier\n",
    "from capymoa.evaluation import ClassificationEvaluator\n",
    "from capymoa.datasets import ElectricityTiny\n",
    "from capymoa.misc import save_model, load_model\n",
    "\n",
    "stream = ElectricityTiny()\n",
    "schema = stream.get_schema()\n",
    "learner = AdaptiveRandomForestClassifier(schema)\n",
    "evaluator = ClassificationEvaluator(schema)\n",
    "while stream.has_more_instances():\n",
    "    instance = stream.next_instance()\n",
    "    score = learner.predict(instance)\n",
    "    evaluator.update(instance.y_index, score)\n",
    "    learner.train(instance)\n",
    "    \n",
    "acc = evaluator.accuracy()\n",
    "print(f\"ACC: {acc:.2f}\")\n",
    "save_model(learner, \"capymoa_model.pkl\") # Save model to capymoa_model.pkl"
   ],
   "outputs": [
    {
     "name": "stdout",
     "output_type": "stream",
     "text": [
      "ACC: 89.00\n"
     ]
    }
   ],
   "execution_count": 1
  },
  {
   "cell_type": "code",
   "id": "2f7dd29e2ed65686",
   "metadata": {
    "ExecuteTime": {
     "end_time": "2024-05-29T08:18:37.737826Z",
     "start_time": "2024-05-29T08:18:33.717028Z"
    }
   },
   "source": [
    "restored_learner = load_model(\"capymoa_model.pkl\")  # Load model from capymoa_model.pkl\n",
    "stream = ElectricityTiny()\n",
    "schema = stream.get_schema()\n",
    "evaluator = ClassificationEvaluator(schema)\n",
    "while stream.has_more_instances():\n",
    "    instance = stream.next_instance()\n",
    "    score = restored_learner.predict(instance)\n",
    "    evaluator.update(instance.y_index, score)\n",
    "    learner.train(instance)\n",
    "print(f\"ACC: {acc:.2f}\")"
   ],
   "outputs": [
    {
     "name": "stdout",
     "output_type": "stream",
     "text": [
      "ACC: 89.00\n"
     ]
    }
   ],
   "execution_count": 2
  },
  {
   "cell_type": "code",
   "id": "e00a292713d154ee",
   "metadata": {
    "ExecuteTime": {
     "end_time": "2024-05-29T08:18:37.977906Z",
     "start_time": "2024-05-29T08:18:37.739209Z"
    }
   },
   "source": [
    "!rm capymoa_model.pkl # Remove the model file"
   ],
   "outputs": [],
   "execution_count": 3
  }
 ],
 "metadata": {
  "kernelspec": {
   "display_name": "Python 3",
   "language": "python",
   "name": "python3"
  },
  "language_info": {
   "codemirror_mode": {
    "name": "ipython",
    "version": 3
   },
   "file_extension": ".py",
   "mimetype": "text/x-python",
   "name": "python",
   "nbconvert_exporter": "python",
   "pygments_lexer": "ipython3",
   "version": "3.9.19"
  }
 },
 "nbformat": 4,
 "nbformat_minor": 5
}
