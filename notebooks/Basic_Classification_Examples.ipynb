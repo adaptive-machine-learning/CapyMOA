{
 "cells": [
  {
   "attachments": {},
   "cell_type": "markdown",
   "id": "326748ef-630d-42ce-9815-1e08035d82fd",
   "metadata": {},
   "source": [
    "# Basic classification examples\n",
    "\n",
    "* Using the ```test_then_train_evaluation``` and ```test_then_train_RIVER``` helper functions.\n",
    "* These are just examples on how to run several algorithms, it is kind of repetitive, but might be useful to have an example.\n",
    "* We show how to use AdaptiveRandomForest using its wrapper (```from classifiers import AdaptiveRandomForest```) and how to create MOA learners and wrap them using a MOALearner (```from learners import MOAClassifier```).\n",
    "* Examples from MOA and River use the same CSV file.\n",
    "\n",
    "**Notebook last update: 08/12/2023**"
   ]
  },
  {
   "cell_type": "code",
   "execution_count": 1,
   "id": "be91302b-3d48-449a-9eeb-4444d86d8e7c",
   "metadata": {
    "execution": {
     "iopub.execute_input": "2024-02-22T02:03:31.970439Z",
     "iopub.status.busy": "2024-02-22T02:03:31.969618Z",
     "iopub.status.idle": "2024-02-22T02:03:33.834904Z",
     "shell.execute_reply": "2024-02-22T02:03:33.833496Z"
    }
   },
   "outputs": [
    {
     "name": "stdout",
     "output_type": "stream",
     "text": [
      "capymoa_root: /home/antonlee/github.com/tachyonicClock/MOABridge/src/capymoa\n",
      "MOA jar path location (config.ini): /home/antonlee/github.com/tachyonicClock/MOABridge/src/capymoa/jar/moa.jar\n",
      "JVM Location (system): \n",
      "JAVA_HOME: /usr/lib/jvm/java-17-openjdk\n",
      "JVM args: ['-Xmx8g', '-Xss10M']\n"
     ]
    },
    {
     "name": "stdout",
     "output_type": "stream",
     "text": [
      "Sucessfully started the JVM and added MOA jar to the class path\n"
     ]
    }
   ],
   "source": [
    "from capymoa.evaluation import test_then_train_evaluation\n",
    "from benchmarking import test_then_train_RIVER"
   ]
  },
  {
   "cell_type": "code",
   "execution_count": 2,
   "id": "60bb1d0d-66e3-45f1-b7cc-15ae08cbe81a",
   "metadata": {
    "execution": {
     "iopub.execute_input": "2024-02-22T02:03:33.841252Z",
     "iopub.status.busy": "2024-02-22T02:03:33.840426Z",
     "iopub.status.idle": "2024-02-22T02:03:33.846728Z",
     "shell.execute_reply": "2024-02-22T02:03:33.845308Z"
    }
   },
   "outputs": [],
   "source": [
    "## Datasets paths\n",
    "csv_elec_tiny_path = '../data/electricity_tiny.csv'\n",
    "\n",
    "# csv_elec_tiny_path = './data/electricity_tiny_nominal_class.csv'"
   ]
  },
  {
   "attachments": {},
   "cell_type": "markdown",
   "id": "c7835c1a-35d0-42bb-9a4d-d990773cc0f6",
   "metadata": {},
   "source": [
    "## Examples using River"
   ]
  },
  {
   "cell_type": "code",
   "execution_count": 3,
   "id": "3d366b78-feeb-497a-8a05-578437600343",
   "metadata": {
    "execution": {
     "iopub.execute_input": "2024-02-22T02:03:33.852949Z",
     "iopub.status.busy": "2024-02-22T02:03:33.851673Z",
     "iopub.status.idle": "2024-02-22T02:03:33.865344Z",
     "shell.execute_reply": "2024-02-22T02:03:33.864327Z"
    }
   },
   "outputs": [],
   "source": [
    "import pandas as pd\n",
    "# Read the file to a dataframe, used by all examples\n",
    "river_elec_tiny = pd.read_csv(csv_elec_tiny_path).to_numpy()"
   ]
  },
  {
   "cell_type": "code",
   "execution_count": 4,
   "id": "d56e186b-a288-4953-9d95-74f25cfeff5e",
   "metadata": {
    "execution": {
     "iopub.execute_input": "2024-02-22T02:03:33.869417Z",
     "iopub.status.busy": "2024-02-22T02:03:33.868929Z",
     "iopub.status.idle": "2024-02-22T02:03:34.538008Z",
     "shell.execute_reply": "2024-02-22T02:03:34.536685Z"
    }
   },
   "outputs": [
    {
     "name": "stdout",
     "output_type": "stream",
     "text": [
      "ARFClassifier, 0.8740, 0.6605, 0.6600\n"
     ]
    }
   ],
   "source": [
    "from river.forest import ARFClassifier\n",
    "\n",
    "river_arf5 = ARFClassifier(\n",
    "    n_models=5,\n",
    "    max_features=0.60\n",
    ")\n",
    "\n",
    "acc, wallclock, cpu_time, df = test_then_train_RIVER(dataset=river_elec_tiny, model=river_arf5)\n",
    "print(f\"{river_arf5}, {acc:.4f}, {wallclock:.4f}, {cpu_time:.4f}\")"
   ]
  },
  {
   "cell_type": "code",
   "execution_count": 5,
   "id": "0d9c9d33-52b2-4442-a577-396de0bf31e7",
   "metadata": {
    "execution": {
     "iopub.execute_input": "2024-02-22T02:03:34.542222Z",
     "iopub.status.busy": "2024-02-22T02:03:34.541128Z",
     "iopub.status.idle": "2024-02-22T02:03:34.635822Z",
     "shell.execute_reply": "2024-02-22T02:03:34.635054Z"
    }
   },
   "outputs": [
    {
     "name": "stdout",
     "output_type": "stream",
     "text": [
      "HoeffdingTreeClassifier, 0.8230, 0.0874, 0.0876\n"
     ]
    }
   ],
   "source": [
    "from river.tree import HoeffdingTreeClassifier\n",
    "\n",
    "river_ht = HoeffdingTreeClassifier()\n",
    "\n",
    "acc, wallclock, cpu_time, df = test_then_train_RIVER(dataset=river_elec_tiny, model=river_ht)\n",
    "print(f\"{river_ht}, {acc:.4f}, {wallclock:.4f}, {cpu_time:.4f}\")"
   ]
  },
  {
   "cell_type": "code",
   "execution_count": 6,
   "id": "84f29ddd-2e97-4c31-945a-1129e8ca1833",
   "metadata": {
    "execution": {
     "iopub.execute_input": "2024-02-22T02:03:34.639861Z",
     "iopub.status.busy": "2024-02-22T02:03:34.639664Z",
     "iopub.status.idle": "2024-02-22T02:03:37.838794Z",
     "shell.execute_reply": "2024-02-22T02:03:37.837913Z"
    }
   },
   "outputs": [
    {
     "name": "stdout",
     "output_type": "stream",
     "text": [
      "KNNClassifier, 0.7510, 3.1919, 3.1962\n"
     ]
    }
   ],
   "source": [
    "from river.neighbors import KNNClassifier\n",
    "\n",
    "river_knn = KNNClassifier()\n",
    "\n",
    "acc, wallclock, cpu_time, df = test_then_train_RIVER(dataset=river_elec_tiny, model=river_knn)\n",
    "print(f\"{river_knn}, {acc:.4f}, {wallclock:.4f}, {cpu_time:.4f}\")"
   ]
  },
  {
   "cell_type": "code",
   "execution_count": 7,
   "id": "47e22fbe-c42a-4cf0-9f40-0c408fc8185b",
   "metadata": {
    "execution": {
     "iopub.execute_input": "2024-02-22T02:03:37.843243Z",
     "iopub.status.busy": "2024-02-22T02:03:37.843033Z",
     "iopub.status.idle": "2024-02-22T02:03:37.915165Z",
     "shell.execute_reply": "2024-02-22T02:03:37.914392Z"
    }
   },
   "outputs": [
    {
     "name": "stdout",
     "output_type": "stream",
     "text": [
      "GaussianNB, 0.8490, 0.0671, 0.0674\n"
     ]
    }
   ],
   "source": [
    "from river.naive_bayes import GaussianNB\n",
    "\n",
    "river_gnb = GaussianNB()\n",
    "\n",
    "acc, wallclock, cpu_time, df = test_then_train_RIVER(dataset=river_elec_tiny, model=river_gnb)\n",
    "print(f\"{river_gnb}, {acc:.4f}, {wallclock:.4f}, {cpu_time:.4f}\")"
   ]
  },
  {
   "cell_type": "code",
   "execution_count": 8,
   "id": "7f59847d-b33b-431e-8ddb-ee0a3a5375b7",
   "metadata": {
    "execution": {
     "iopub.execute_input": "2024-02-22T02:03:37.918974Z",
     "iopub.status.busy": "2024-02-22T02:03:37.918778Z",
     "iopub.status.idle": "2024-02-22T02:03:39.507294Z",
     "shell.execute_reply": "2024-02-22T02:03:39.506506Z"
    }
   },
   "outputs": [
    {
     "name": "stdout",
     "output_type": "stream",
     "text": [
      "SRPClassifier(HoeffdingTreeClassifier), 0.8870, 1.5835, 1.5838\n"
     ]
    }
   ],
   "source": [
    "from river.ensemble.streaming_random_patches import SRPClassifier\n",
    "\n",
    "river_srp = SRPClassifier(\n",
    "    n_models=5,\n",
    "    subspace_size=0.6\n",
    ")\n",
    "\n",
    "acc, wallclock, cpu_time, df = test_then_train_RIVER(dataset=river_elec_tiny, model=river_srp)\n",
    "print(f\"{river_srp}, {acc:.4f}, {wallclock:.4f}, {cpu_time:.4f}\")"
   ]
  },
  {
   "cell_type": "code",
   "execution_count": 9,
   "id": "e25a96f4-7612-445b-b210-838d474fba2d",
   "metadata": {
    "execution": {
     "iopub.execute_input": "2024-02-22T02:03:39.511233Z",
     "iopub.status.busy": "2024-02-22T02:03:39.511050Z",
     "iopub.status.idle": "2024-02-22T02:03:39.951075Z",
     "shell.execute_reply": "2024-02-22T02:03:39.950289Z"
    }
   },
   "outputs": [
    {
     "name": "stdout",
     "output_type": "stream",
     "text": [
      "ExtremelyFastDecisionTreeClassifier, 0.8230, 0.4353, 0.4355\n"
     ]
    }
   ],
   "source": [
    "from river.tree import ExtremelyFastDecisionTreeClassifier\n",
    "\n",
    "river_EFDT = ExtremelyFastDecisionTreeClassifier()\n",
    "\n",
    "acc, wallclock, cpu_time, df = test_then_train_RIVER(dataset=river_elec_tiny, model=river_EFDT)\n",
    "print(f\"{river_EFDT}, {acc:.4f}, {wallclock:.4f}, {cpu_time:.4f}\")"
   ]
  },
  {
   "attachments": {},
   "cell_type": "markdown",
   "id": "15079978-5afa-4876-a0cc-ab0fcf3ab6ce",
   "metadata": {},
   "source": [
    "## Examples using MOA"
   ]
  },
  {
   "cell_type": "code",
   "execution_count": 10,
   "id": "af49a45b-767d-4532-bf39-f408d2ab515a",
   "metadata": {
    "execution": {
     "iopub.execute_input": "2024-02-22T02:03:39.954881Z",
     "iopub.status.busy": "2024-02-22T02:03:39.954679Z",
     "iopub.status.idle": "2024-02-22T02:03:40.001644Z",
     "shell.execute_reply": "2024-02-22T02:03:40.000815Z"
    }
   },
   "outputs": [],
   "source": [
    "# from moa.streams import ArffFileStream\n",
    "from capymoa.stream.stream import stream_from_file\n",
    "# from evaluation import test_then_train_evaluation\n",
    "\n",
    "elec_stream = stream_from_file(path_to_csv_or_arff=csv_elec_tiny_path, class_index=-1)"
   ]
  },
  {
   "cell_type": "code",
   "execution_count": 11,
   "id": "8b4a0ea7-8707-4bf3-8ce6-1f3a965497c0",
   "metadata": {
    "execution": {
     "iopub.execute_input": "2024-02-22T02:03:40.005899Z",
     "iopub.status.busy": "2024-02-22T02:03:40.005712Z",
     "iopub.status.idle": "2024-02-22T02:03:40.013027Z",
     "shell.execute_reply": "2024-02-22T02:03:40.012327Z"
    }
   },
   "outputs": [
    {
     "data": {
      "text/plain": [
       "['0', '1']"
      ]
     },
     "execution_count": 11,
     "metadata": {},
     "output_type": "execute_result"
    }
   ],
   "source": [
    "elec_stream.get_schema().label_values"
   ]
  },
  {
   "cell_type": "code",
   "execution_count": 12,
   "id": "9cf0778d-942f-44e2-bd79-e754e6c7735e",
   "metadata": {
    "execution": {
     "iopub.execute_input": "2024-02-22T02:03:40.017611Z",
     "iopub.status.busy": "2024-02-22T02:03:40.017418Z",
     "iopub.status.idle": "2024-02-22T02:03:40.741151Z",
     "shell.execute_reply": "2024-02-22T02:03:40.740175Z"
    }
   },
   "outputs": [
    {
     "name": "stdout",
     "output_type": "stream",
     "text": [
      "AdaptiveRandomForest wallclock: 0.7095663547515869 cpu_time: 5.429318835 metrics: {'classified instances': 2000.0, 'classifications correct (percent)': 89.45, 'Kappa Statistic (percent)': 78.10294728102947, 'Kappa Temporal Statistic (percent)': 24.9110320284697, 'Kappa M Statistic (percent)': 73.2233502538071, 'F1 Score (percent)': 89.07449732081565, 'F1 Score for class 0 (percent)': 91.14561477129669, 'F1 Score for class 1 (percent)': 86.95114409400124, 'Precision (percent)': 88.81882656350741, 'Precision for class 0 (percent)': 92.42553191489363, 'Precision for class 1 (percent)': 85.21212121212122, 'Recall (percent)': 89.33164425714095, 'Recall for class 0 (percent)': 89.90066225165563, 'Recall for class 1 (percent)': 88.76262626262627}\n"
     ]
    }
   ],
   "source": [
    "from capymoa.learner.classifier import AdaptiveRandomForest\n",
    "\n",
    "arf10 = AdaptiveRandomForest(schema=elec_stream.get_schema(), ensemble_size=5)\n",
    "results = test_then_train_evaluation(stream=elec_stream, learner=arf10)\n",
    "\n",
    "print(f\"{arf10} wallclock: {results['wallclock']} cpu_time: {results['cpu_time']} metrics: {results['cumulative']}\")"
   ]
  },
  {
   "cell_type": "code",
   "execution_count": 13,
   "id": "1270cf7b-3bf1-4092-9498-f5e6f91aea64",
   "metadata": {
    "execution": {
     "iopub.execute_input": "2024-02-22T02:03:40.744159Z",
     "iopub.status.busy": "2024-02-22T02:03:40.743440Z",
     "iopub.status.idle": "2024-02-22T02:03:40.800588Z",
     "shell.execute_reply": "2024-02-22T02:03:40.799673Z"
    }
   },
   "outputs": [
    {
     "name": "stdout",
     "output_type": "stream",
     "text": [
      "HoeffdingTree wallclock: 0.04974699020385742 cpu_time: 0.3924380860000021 metrics: {'classified instances': 2000.0, 'classifications correct (percent)': 82.65, 'Kappa Statistic (percent)': 64.11315010011087, 'Kappa Temporal Statistic (percent)': -23.487544483985793, 'Kappa M Statistic (percent)': 55.964467005076145, 'F1 Score (percent)': 82.09811936776865, 'F1 Score for class 0 (percent)': 85.34009294465568, 'F1 Score for class 1 (percent)': 78.75076546233926, 'Precision (percent)': 81.80034450954582, 'Precision for class 0 (percent)': 87.14408973252804, 'Precision for class 1 (percent)': 76.45659928656362, 'Recall (percent)': 82.39807010502375, 'Recall for class 0 (percent)': 83.6092715231788, 'Recall for class 1 (percent)': 81.18686868686868}\n"
     ]
    }
   ],
   "source": [
    "from moa.classifiers.trees import HoeffdingTree\n",
    "from capymoa.learner import MOAClassifier\n",
    "\n",
    "ht_moa = MOAClassifier(schema=elec_stream.schema, moa_learner=HoeffdingTree())\n",
    "\n",
    "results = test_then_train_evaluation(stream=elec_stream, learner=ht_moa)\n",
    "print(f\"{ht_moa} wallclock: {results['wallclock']} cpu_time: {results['cpu_time']} metrics: {results['cumulative']}\")"
   ]
  },
  {
   "cell_type": "code",
   "execution_count": 14,
   "id": "c8ac0b21-a3bf-488b-b5cb-ce6289298ee1",
   "metadata": {
    "execution": {
     "iopub.execute_input": "2024-02-22T02:03:40.804783Z",
     "iopub.status.busy": "2024-02-22T02:03:40.804547Z",
     "iopub.status.idle": "2024-02-22T02:03:41.119957Z",
     "shell.execute_reply": "2024-02-22T02:03:41.119028Z"
    }
   },
   "outputs": [
    {
     "name": "stdout",
     "output_type": "stream",
     "text": [
      "kNN wallclock: 0.30768847465515137 cpu_time: 0.9051395679999992 metrics: {'classified instances': 2000.0, 'classifications correct (percent)': 80.55, 'Kappa Statistic (percent)': 59.525712097754244, 'Kappa Temporal Statistic (percent)': -38.43416370106766, 'Kappa M Statistic (percent)': 50.63451776649747, 'F1 Score (percent)': 79.77003356968547, 'F1 Score for class 0 (percent)': 83.75782881002087, 'F1 Score for class 1 (percent)': 75.7632398753894, 'Precision (percent)': 79.64174207875188, 'Precision for class 0 (percent)': 84.49873631002527, 'Precision for class 1 (percent)': 74.78474784747847, 'Recall (percent)': 79.89873904609004, 'Recall for class 0 (percent)': 83.02980132450331, 'Recall for class 1 (percent)': 76.76767676767676}\n"
     ]
    }
   ],
   "source": [
    "from moa.classifiers.lazy import kNN\n",
    "\n",
    "knn_moa = MOAClassifier(schema=elec_stream.schema, moa_learner=kNN())\n",
    "\n",
    "results = test_then_train_evaluation(stream=elec_stream, learner=knn_moa)\n",
    "print(f\"{knn_moa} wallclock: {results['wallclock']} cpu_time: {results['cpu_time']} metrics: {results['cumulative']}\")"
   ]
  },
  {
   "cell_type": "code",
   "execution_count": 15,
   "id": "15ccd3c4-f0d6-479d-b773-df230cfdf2aa",
   "metadata": {
    "execution": {
     "iopub.execute_input": "2024-02-22T02:03:41.124159Z",
     "iopub.status.busy": "2024-02-22T02:03:41.123889Z",
     "iopub.status.idle": "2024-02-22T02:03:41.209229Z",
     "shell.execute_reply": "2024-02-22T02:03:41.207961Z"
    }
   },
   "outputs": [
    {
     "name": "stdout",
     "output_type": "stream",
     "text": [
      "EFDT wallclock: 0.0766913890838623 cpu_time: 0.13533034100000307 metrics: {'classified instances': 2000.0, 'classifications correct (percent)': 82.69999999999999, 'Kappa Statistic (percent)': 64.22426628726465, 'Kappa Temporal Statistic (percent)': -23.131672597864835, 'Kappa M Statistic (percent)': 56.09137055837563, 'F1 Score (percent)': 82.15544727171476, 'F1 Score for class 0 (percent)': 85.37616229923923, 'F1 Score for class 1 (percent)': 78.82496940024481, 'Precision (percent)': 81.85195213304944, 'Precision for class 0 (percent)': 87.21934369602764, 'Precision for class 1 (percent)': 76.48456057007125, 'Recall (percent)': 82.46120141815506, 'Recall for class 0 (percent)': 83.6092715231788, 'Recall for class 1 (percent)': 81.31313131313132}\n"
     ]
    }
   ],
   "source": [
    "from moa.classifiers.trees import EFDT\n",
    "\n",
    "EFDT_moa = MOAClassifier(schema=elec_stream.schema, moa_learner=EFDT())\n",
    "\n",
    "results = test_then_train_evaluation(stream=elec_stream, learner=EFDT_moa)\n",
    "print(f\"{EFDT_moa} wallclock: {results['wallclock']} cpu_time: {results['cpu_time']} metrics: {results['cumulative']}\")"
   ]
  },
  {
   "cell_type": "code",
   "execution_count": 16,
   "id": "e264098a-588a-456b-ae11-dced5b5ceb7f",
   "metadata": {
    "execution": {
     "iopub.execute_input": "2024-02-22T02:03:41.213691Z",
     "iopub.status.busy": "2024-02-22T02:03:41.213411Z",
     "iopub.status.idle": "2024-02-22T02:03:41.264395Z",
     "shell.execute_reply": "2024-02-22T02:03:41.263240Z"
    }
   },
   "outputs": [
    {
     "name": "stdout",
     "output_type": "stream",
     "text": [
      "NaiveBayes wallclock: 0.04320526123046875 cpu_time: 0.08829917499999951 metrics: {'classified instances': 2000.0, 'classifications correct (percent)': 84.0, 'Kappa Statistic (percent)': 66.56748353448563, 'Kappa Temporal Statistic (percent)': -13.879003558718917, 'Kappa M Statistic (percent)': 59.39086294416243, 'F1 Score (percent)': 83.28381505321872, 'F1 Score for class 0 (percent)': 86.74399337199668, 'F1 Score for class 1 (percent)': 79.82345523329128, 'Precision (percent)': 83.26942115618381, 'Precision for class 0 (percent)': 86.81592039800995, 'Precision for class 1 (percent)': 79.72292191435768, 'Recall (percent)': 83.29821392735299, 'Recall for class 0 (percent)': 86.67218543046357, 'Recall for class 1 (percent)': 79.92424242424242}\n"
     ]
    }
   ],
   "source": [
    "from moa.classifiers.bayes import NaiveBayes\n",
    "\n",
    "NaiveBayes_moa = MOAClassifier(schema=elec_stream.schema, moa_learner=NaiveBayes())\n",
    "\n",
    "results = test_then_train_evaluation(stream=elec_stream, learner=NaiveBayes_moa)\n",
    "print(f\"{NaiveBayes_moa} wallclock: {results['wallclock']} cpu_time: {results['cpu_time']} metrics: {results['cumulative']}\")"
   ]
  },
  {
   "cell_type": "code",
   "execution_count": 17,
   "id": "6fa952e8-08e3-4e6f-88ad-dac1aaea94ef",
   "metadata": {
    "execution": {
     "iopub.execute_input": "2024-02-22T02:03:41.268443Z",
     "iopub.status.busy": "2024-02-22T02:03:41.268251Z",
     "iopub.status.idle": "2024-02-22T02:03:41.776680Z",
     "shell.execute_reply": "2024-02-22T02:03:41.776120Z"
    }
   },
   "outputs": [
    {
     "name": "stdout",
     "output_type": "stream",
     "text": [
      "StreamingRandomPatches wallclock: 0.5023019313812256 cpu_time: 1.9590175730000006 metrics: {'classified instances': 2000.0, 'classifications correct (percent)': 88.75, 'Kappa Statistic (percent)': 76.35402128768642, 'Kappa Temporal Statistic (percent)': 19.928825622775744, 'Kappa M Statistic (percent)': 71.4467005076142, 'F1 Score (percent)': 88.19027989119654, 'F1 Score for class 0 (percent)': 90.78246620237607, 'F1 Score for class 1 (percent)': 85.56767158434894, 'Precision (percent)': 88.41215762532106, 'Precision for class 0 (percent)': 89.86212489862126, 'Precision for class 1 (percent)': 86.96219035202087, 'Recall (percent)': 87.96951301090374, 'Recall for class 0 (percent)': 91.72185430463577, 'Recall for class 1 (percent)': 84.21717171717171}\n"
     ]
    }
   ],
   "source": [
    "from moa.classifiers.meta import StreamingRandomPatches\n",
    "\n",
    "SRP_moa = MOAClassifier(schema=elec_stream.schema, moa_learner=StreamingRandomPatches(), CLI=\"-s 5 -u\")\n",
    "\n",
    "results = test_then_train_evaluation(stream=elec_stream, learner=SRP_moa)\n",
    "print(f\"{SRP_moa} wallclock: {results['wallclock']} cpu_time: {results['cpu_time']} metrics: {results['cumulative']}\")"
   ]
  }
 ],
 "metadata": {
  "kernelspec": {
   "display_name": "Python 3 (ipykernel)",
   "language": "python",
   "name": "python3"
  },
  "language_info": {
   "codemirror_mode": {
    "name": "ipython",
    "version": 3
   },
   "file_extension": ".py",
   "mimetype": "text/x-python",
   "name": "python",
   "nbconvert_exporter": "python",
   "pygments_lexer": "ipython3",
   "version": "3.10.0"
  }
 },
 "nbformat": 4,
 "nbformat_minor": 5
}
