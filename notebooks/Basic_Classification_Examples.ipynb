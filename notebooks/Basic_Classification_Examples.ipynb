{
 "cells": [
  {
   "attachments": {},
   "cell_type": "markdown",
   "id": "326748ef-630d-42ce-9815-1e08035d82fd",
   "metadata": {},
   "source": [
    "# Basic classification examples\n",
    "\n",
    "* Using the ```test_then_train_evaluation``` and ```test_then_train_RIVER``` helper functions.\n",
    "* These are just examples on how to run several algorithms, it is kind of repetitive, but might be useful to have an example.\n",
    "* We show how to use AdaptiveRandomForest using its wrapper (```from classifiers import AdaptiveRandomForest```) and how to create MOA learners and wrap them using a MOALearner (```from learners import MOAClassifier```).\n",
    "* Examples from MOA and River use the same CSV file.\n",
    "\n",
    "**Notebook last update: 08/12/2023**"
   ]
  },
  {
   "cell_type": "code",
   "execution_count": 1,
   "id": "be91302b-3d48-449a-9eeb-4444d86d8e7c",
   "metadata": {
    "execution": {
     "iopub.execute_input": "2024-02-29T01:28:17.593084Z",
     "iopub.status.busy": "2024-02-29T01:28:17.592089Z",
     "iopub.status.idle": "2024-02-29T01:28:20.860621Z",
     "shell.execute_reply": "2024-02-29T01:28:20.860077Z"
    }
   },
   "outputs": [
    {
     "name": "stdout",
     "output_type": "stream",
     "text": [
      "capymoa_root: /home/antonlee/github.com/tachyonicClock/MOABridge/src/capymoa\n",
      "MOA jar path location (config.ini): /home/antonlee/github.com/tachyonicClock/MOABridge/src/capymoa/jar/moa.jar\n",
      "JVM Location (system): \n",
      "JAVA_HOME: /usr/lib/jvm/java-17-openjdk\n",
      "JVM args: ['-Xmx8g', '-Xss10M']\n"
     ]
    },
    {
     "name": "stdout",
     "output_type": "stream",
     "text": [
      "Sucessfully started the JVM and added MOA jar to the class path\n"
     ]
    }
   ],
   "source": [
    "from capymoa.evaluation import test_then_train_evaluation\n",
    "from benchmarking import test_then_train_RIVER"
   ]
  },
  {
   "cell_type": "code",
   "execution_count": 2,
   "id": "60bb1d0d-66e3-45f1-b7cc-15ae08cbe81a",
   "metadata": {
    "execution": {
     "iopub.execute_input": "2024-02-29T01:28:20.920061Z",
     "iopub.status.busy": "2024-02-29T01:28:20.919737Z",
     "iopub.status.idle": "2024-02-29T01:28:20.923831Z",
     "shell.execute_reply": "2024-02-29T01:28:20.922663Z"
    }
   },
   "outputs": [],
   "source": [
    "## Datasets paths\n",
    "csv_elec_tiny_path = '../data/electricity_tiny.csv'\n",
    "\n",
    "# csv_elec_tiny_path = './data/electricity_tiny_nominal_class.csv'"
   ]
  },
  {
   "attachments": {},
   "cell_type": "markdown",
   "id": "c7835c1a-35d0-42bb-9a4d-d990773cc0f6",
   "metadata": {},
   "source": [
    "## Examples using River"
   ]
  },
  {
   "cell_type": "code",
   "execution_count": 3,
   "id": "3d366b78-feeb-497a-8a05-578437600343",
   "metadata": {
    "execution": {
     "iopub.execute_input": "2024-02-29T01:28:20.926207Z",
     "iopub.status.busy": "2024-02-29T01:28:20.925992Z",
     "iopub.status.idle": "2024-02-29T01:28:20.939719Z",
     "shell.execute_reply": "2024-02-29T01:28:20.936018Z"
    }
   },
   "outputs": [],
   "source": [
    "import pandas as pd\n",
    "# Read the file to a dataframe, used by all examples\n",
    "river_elec_tiny = pd.read_csv(csv_elec_tiny_path).to_numpy()"
   ]
  },
  {
   "cell_type": "code",
   "execution_count": 4,
   "id": "d56e186b-a288-4953-9d95-74f25cfeff5e",
   "metadata": {
    "execution": {
     "iopub.execute_input": "2024-02-29T01:28:20.942265Z",
     "iopub.status.busy": "2024-02-29T01:28:20.941824Z",
     "iopub.status.idle": "2024-02-29T01:28:22.008546Z",
     "shell.execute_reply": "2024-02-29T01:28:22.007937Z"
    }
   },
   "outputs": [
    {
     "name": "stdout",
     "output_type": "stream",
     "text": [
      "ARFClassifier, 0.8860, 1.0561, 0.7037\n"
     ]
    }
   ],
   "source": [
    "from river.forest import ARFClassifier\n",
    "\n",
    "river_arf5 = ARFClassifier(\n",
    "    n_models=5,\n",
    "    max_features=0.60\n",
    ")\n",
    "\n",
    "acc, wallclock, cpu_time, df = test_then_train_RIVER(dataset=river_elec_tiny, model=river_arf5)\n",
    "print(f\"{river_arf5}, {acc:.4f}, {wallclock:.4f}, {cpu_time:.4f}\")"
   ]
  },
  {
   "cell_type": "code",
   "execution_count": 5,
   "id": "0d9c9d33-52b2-4442-a577-396de0bf31e7",
   "metadata": {
    "execution": {
     "iopub.execute_input": "2024-02-29T01:28:22.017827Z",
     "iopub.status.busy": "2024-02-29T01:28:22.016540Z",
     "iopub.status.idle": "2024-02-29T01:28:22.294926Z",
     "shell.execute_reply": "2024-02-29T01:28:22.294319Z"
    }
   },
   "outputs": [
    {
     "name": "stdout",
     "output_type": "stream",
     "text": [
      "HoeffdingTreeClassifier, 0.8230, 0.2658, 0.0893\n"
     ]
    }
   ],
   "source": [
    "from river.tree import HoeffdingTreeClassifier\n",
    "\n",
    "river_ht = HoeffdingTreeClassifier()\n",
    "\n",
    "acc, wallclock, cpu_time, df = test_then_train_RIVER(dataset=river_elec_tiny, model=river_ht)\n",
    "print(f\"{river_ht}, {acc:.4f}, {wallclock:.4f}, {cpu_time:.4f}\")"
   ]
  },
  {
   "cell_type": "code",
   "execution_count": 6,
   "id": "84f29ddd-2e97-4c31-945a-1129e8ca1833",
   "metadata": {
    "execution": {
     "iopub.execute_input": "2024-02-29T01:28:22.307353Z",
     "iopub.status.busy": "2024-02-29T01:28:22.306768Z",
     "iopub.status.idle": "2024-02-29T01:28:29.440227Z",
     "shell.execute_reply": "2024-02-29T01:28:29.439534Z"
    }
   },
   "outputs": [
    {
     "name": "stdout",
     "output_type": "stream",
     "text": [
      "KNNClassifier, 0.7570, 7.1267, 3.9199\n"
     ]
    }
   ],
   "source": [
    "from river.neighbors import KNNClassifier\n",
    "\n",
    "river_knn = KNNClassifier()\n",
    "\n",
    "acc, wallclock, cpu_time, df = test_then_train_RIVER(dataset=river_elec_tiny, model=river_knn)\n",
    "print(f\"{river_knn}, {acc:.4f}, {wallclock:.4f}, {cpu_time:.4f}\")"
   ]
  },
  {
   "cell_type": "code",
   "execution_count": 7,
   "id": "47e22fbe-c42a-4cf0-9f40-0c408fc8185b",
   "metadata": {
    "execution": {
     "iopub.execute_input": "2024-02-29T01:28:29.444076Z",
     "iopub.status.busy": "2024-02-29T01:28:29.443527Z",
     "iopub.status.idle": "2024-02-29T01:28:29.538876Z",
     "shell.execute_reply": "2024-02-29T01:28:29.538346Z"
    }
   },
   "outputs": [
    {
     "name": "stdout",
     "output_type": "stream",
     "text": [
      "GaussianNB, 0.8490, 0.0912, 0.0757\n"
     ]
    }
   ],
   "source": [
    "from river.naive_bayes import GaussianNB\n",
    "\n",
    "river_gnb = GaussianNB()\n",
    "\n",
    "acc, wallclock, cpu_time, df = test_then_train_RIVER(dataset=river_elec_tiny, model=river_gnb)\n",
    "print(f\"{river_gnb}, {acc:.4f}, {wallclock:.4f}, {cpu_time:.4f}\")"
   ]
  },
  {
   "cell_type": "code",
   "execution_count": 8,
   "id": "7f59847d-b33b-431e-8ddb-ee0a3a5375b7",
   "metadata": {
    "execution": {
     "iopub.execute_input": "2024-02-29T01:28:29.542245Z",
     "iopub.status.busy": "2024-02-29T01:28:29.541376Z",
     "iopub.status.idle": "2024-02-29T01:28:31.675086Z",
     "shell.execute_reply": "2024-02-29T01:28:31.667266Z"
    }
   },
   "outputs": [
    {
     "name": "stdout",
     "output_type": "stream",
     "text": [
      "SRPClassifier(HoeffdingTreeClassifier), 0.9070, 2.1189, 1.9090\n"
     ]
    }
   ],
   "source": [
    "from river.ensemble.streaming_random_patches import SRPClassifier\n",
    "\n",
    "river_srp = SRPClassifier(\n",
    "    n_models=5,\n",
    "    subspace_size=0.6\n",
    ")\n",
    "\n",
    "acc, wallclock, cpu_time, df = test_then_train_RIVER(dataset=river_elec_tiny, model=river_srp)\n",
    "print(f\"{river_srp}, {acc:.4f}, {wallclock:.4f}, {cpu_time:.4f}\")"
   ]
  },
  {
   "cell_type": "code",
   "execution_count": 9,
   "id": "e25a96f4-7612-445b-b210-838d474fba2d",
   "metadata": {
    "execution": {
     "iopub.execute_input": "2024-02-29T01:28:31.678387Z",
     "iopub.status.busy": "2024-02-29T01:28:31.678137Z",
     "iopub.status.idle": "2024-02-29T01:28:32.209613Z",
     "shell.execute_reply": "2024-02-29T01:28:32.208995Z"
    }
   },
   "outputs": [
    {
     "name": "stdout",
     "output_type": "stream",
     "text": [
      "ExtremelyFastDecisionTreeClassifier, 0.8230, 0.5219, 0.4909\n"
     ]
    }
   ],
   "source": [
    "from river.tree import ExtremelyFastDecisionTreeClassifier\n",
    "\n",
    "river_EFDT = ExtremelyFastDecisionTreeClassifier()\n",
    "\n",
    "acc, wallclock, cpu_time, df = test_then_train_RIVER(dataset=river_elec_tiny, model=river_EFDT)\n",
    "print(f\"{river_EFDT}, {acc:.4f}, {wallclock:.4f}, {cpu_time:.4f}\")"
   ]
  },
  {
   "attachments": {},
   "cell_type": "markdown",
   "id": "15079978-5afa-4876-a0cc-ab0fcf3ab6ce",
   "metadata": {},
   "source": [
    "## Examples using MOA"
   ]
  },
  {
   "cell_type": "code",
   "execution_count": 10,
   "id": "af49a45b-767d-4532-bf39-f408d2ab515a",
   "metadata": {
    "execution": {
     "iopub.execute_input": "2024-02-29T01:28:32.212580Z",
     "iopub.status.busy": "2024-02-29T01:28:32.212233Z",
     "iopub.status.idle": "2024-02-29T01:28:32.277601Z",
     "shell.execute_reply": "2024-02-29T01:28:32.277008Z"
    }
   },
   "outputs": [],
   "source": [
    "# from moa.streams import ArffFileStream\n",
    "from capymoa.stream.stream import stream_from_file\n",
    "# from evaluation import test_then_train_evaluation\n",
    "\n",
    "elec_stream = stream_from_file(path_to_csv_or_arff=csv_elec_tiny_path, class_index=-1)"
   ]
  },
  {
   "cell_type": "code",
   "execution_count": 11,
   "id": "8b4a0ea7-8707-4bf3-8ce6-1f3a965497c0",
   "metadata": {
    "execution": {
     "iopub.execute_input": "2024-02-29T01:28:32.281385Z",
     "iopub.status.busy": "2024-02-29T01:28:32.280383Z",
     "iopub.status.idle": "2024-02-29T01:28:32.292497Z",
     "shell.execute_reply": "2024-02-29T01:28:32.291854Z"
    }
   },
   "outputs": [
    {
     "data": {
      "text/plain": [
       "['0', '1']"
      ]
     },
     "execution_count": 11,
     "metadata": {},
     "output_type": "execute_result"
    }
   ],
   "source": [
    "elec_stream.get_schema().label_values"
   ]
  },
  {
   "cell_type": "code",
   "execution_count": 12,
   "id": "9cf0778d-942f-44e2-bd79-e754e6c7735e",
   "metadata": {
    "execution": {
     "iopub.execute_input": "2024-02-29T01:28:32.295257Z",
     "iopub.status.busy": "2024-02-29T01:28:32.294951Z",
     "iopub.status.idle": "2024-02-29T01:28:34.419659Z",
     "shell.execute_reply": "2024-02-29T01:28:34.418962Z"
    }
   },
   "outputs": [
    {
     "name": "stdout",
     "output_type": "stream",
     "text": [
      "AdaptiveRandomForest wallclock: 2.0976288318634033 cpu_time: 3.406157696000001 metrics: {'classified instances': 2000.0, 'classifications correct (percent)': 89.45, 'Kappa Statistic (percent)': 78.10294728102947, 'Kappa Temporal Statistic (percent)': 24.9110320284697, 'Kappa M Statistic (percent)': 73.2233502538071, 'F1 Score (percent)': 89.07449732081565, 'F1 Score for class 0 (percent)': 91.14561477129669, 'F1 Score for class 1 (percent)': 86.95114409400124, 'Precision (percent)': 88.81882656350741, 'Precision for class 0 (percent)': 92.42553191489363, 'Precision for class 1 (percent)': 85.21212121212122, 'Recall (percent)': 89.33164425714095, 'Recall for class 0 (percent)': 89.90066225165563, 'Recall for class 1 (percent)': 88.76262626262627}\n"
     ]
    }
   ],
   "source": [
    "from capymoa.learner.classifier import AdaptiveRandomForest\n",
    "\n",
    "arf10 = AdaptiveRandomForest(schema=elec_stream.get_schema(), ensemble_size=5)\n",
    "results = test_then_train_evaluation(stream=elec_stream, learner=arf10)\n",
    "\n",
    "print(f\"{arf10} wallclock: {results['wallclock']} cpu_time: {results['cpu_time']} metrics: {results['cumulative']}\")"
   ]
  },
  {
   "cell_type": "code",
   "execution_count": 13,
   "id": "1270cf7b-3bf1-4092-9498-f5e6f91aea64",
   "metadata": {
    "execution": {
     "iopub.execute_input": "2024-02-29T01:28:34.425305Z",
     "iopub.status.busy": "2024-02-29T01:28:34.424848Z",
     "iopub.status.idle": "2024-02-29T01:28:34.526593Z",
     "shell.execute_reply": "2024-02-29T01:28:34.521616Z"
    }
   },
   "outputs": [
    {
     "name": "stdout",
     "output_type": "stream",
     "text": [
      "HoeffdingTree wallclock: 0.08550405502319336 cpu_time: 0.2671951210000003 metrics: {'classified instances': 2000.0, 'classifications correct (percent)': 82.65, 'Kappa Statistic (percent)': 64.11315010011087, 'Kappa Temporal Statistic (percent)': -23.487544483985793, 'Kappa M Statistic (percent)': 55.964467005076145, 'F1 Score (percent)': 82.09811936776865, 'F1 Score for class 0 (percent)': 85.34009294465568, 'F1 Score for class 1 (percent)': 78.75076546233926, 'Precision (percent)': 81.80034450954582, 'Precision for class 0 (percent)': 87.14408973252804, 'Precision for class 1 (percent)': 76.45659928656362, 'Recall (percent)': 82.39807010502375, 'Recall for class 0 (percent)': 83.6092715231788, 'Recall for class 1 (percent)': 81.18686868686868}\n"
     ]
    }
   ],
   "source": [
    "from moa.classifiers.trees import HoeffdingTree\n",
    "from capymoa.learner import MOAClassifier\n",
    "\n",
    "ht_moa = MOAClassifier(schema=elec_stream.schema, moa_learner=HoeffdingTree())\n",
    "\n",
    "results = test_then_train_evaluation(stream=elec_stream, learner=ht_moa)\n",
    "print(f\"{ht_moa} wallclock: {results['wallclock']} cpu_time: {results['cpu_time']} metrics: {results['cumulative']}\")"
   ]
  },
  {
   "cell_type": "code",
   "execution_count": 14,
   "id": "c8ac0b21-a3bf-488b-b5cb-ce6289298ee1",
   "metadata": {
    "execution": {
     "iopub.execute_input": "2024-02-29T01:28:34.530552Z",
     "iopub.status.busy": "2024-02-29T01:28:34.529136Z",
     "iopub.status.idle": "2024-02-29T01:28:35.020878Z",
     "shell.execute_reply": "2024-02-29T01:28:35.019723Z"
    }
   },
   "outputs": [
    {
     "name": "stdout",
     "output_type": "stream",
     "text": [
      "kNN wallclock: 0.47820544242858887 cpu_time: 1.0959418200000002 metrics: {'classified instances': 2000.0, 'classifications correct (percent)': 80.55, 'Kappa Statistic (percent)': 59.525712097754244, 'Kappa Temporal Statistic (percent)': -38.43416370106766, 'Kappa M Statistic (percent)': 50.63451776649747, 'F1 Score (percent)': 79.77003356968547, 'F1 Score for class 0 (percent)': 83.75782881002087, 'F1 Score for class 1 (percent)': 75.7632398753894, 'Precision (percent)': 79.64174207875188, 'Precision for class 0 (percent)': 84.49873631002527, 'Precision for class 1 (percent)': 74.78474784747847, 'Recall (percent)': 79.89873904609004, 'Recall for class 0 (percent)': 83.02980132450331, 'Recall for class 1 (percent)': 76.76767676767676}\n"
     ]
    }
   ],
   "source": [
    "from moa.classifiers.lazy import kNN\n",
    "\n",
    "knn_moa = MOAClassifier(schema=elec_stream.schema, moa_learner=kNN())\n",
    "\n",
    "results = test_then_train_evaluation(stream=elec_stream, learner=knn_moa)\n",
    "print(f\"{knn_moa} wallclock: {results['wallclock']} cpu_time: {results['cpu_time']} metrics: {results['cumulative']}\")"
   ]
  },
  {
   "cell_type": "code",
   "execution_count": 15,
   "id": "15ccd3c4-f0d6-479d-b773-df230cfdf2aa",
   "metadata": {
    "execution": {
     "iopub.execute_input": "2024-02-29T01:28:35.024948Z",
     "iopub.status.busy": "2024-02-29T01:28:35.023566Z",
     "iopub.status.idle": "2024-02-29T01:28:35.140699Z",
     "shell.execute_reply": "2024-02-29T01:28:35.140085Z"
    }
   },
   "outputs": [
    {
     "name": "stdout",
     "output_type": "stream",
     "text": [
      "EFDT wallclock: 0.10801196098327637 cpu_time: 0.2733989769999994 metrics: {'classified instances': 2000.0, 'classifications correct (percent)': 82.69999999999999, 'Kappa Statistic (percent)': 64.22426628726465, 'Kappa Temporal Statistic (percent)': -23.131672597864835, 'Kappa M Statistic (percent)': 56.09137055837563, 'F1 Score (percent)': 82.15544727171476, 'F1 Score for class 0 (percent)': 85.37616229923923, 'F1 Score for class 1 (percent)': 78.82496940024481, 'Precision (percent)': 81.85195213304944, 'Precision for class 0 (percent)': 87.21934369602764, 'Precision for class 1 (percent)': 76.48456057007125, 'Recall (percent)': 82.46120141815506, 'Recall for class 0 (percent)': 83.6092715231788, 'Recall for class 1 (percent)': 81.31313131313132}\n"
     ]
    }
   ],
   "source": [
    "from moa.classifiers.trees import EFDT\n",
    "\n",
    "EFDT_moa = MOAClassifier(schema=elec_stream.schema, moa_learner=EFDT())\n",
    "\n",
    "results = test_then_train_evaluation(stream=elec_stream, learner=EFDT_moa)\n",
    "print(f\"{EFDT_moa} wallclock: {results['wallclock']} cpu_time: {results['cpu_time']} metrics: {results['cumulative']}\")"
   ]
  },
  {
   "cell_type": "code",
   "execution_count": 16,
   "id": "e264098a-588a-456b-ae11-dced5b5ceb7f",
   "metadata": {
    "execution": {
     "iopub.execute_input": "2024-02-29T01:28:35.143802Z",
     "iopub.status.busy": "2024-02-29T01:28:35.143367Z",
     "iopub.status.idle": "2024-02-29T01:28:35.223923Z",
     "shell.execute_reply": "2024-02-29T01:28:35.223317Z"
    }
   },
   "outputs": [
    {
     "name": "stdout",
     "output_type": "stream",
     "text": [
      "NaiveBayes wallclock: 0.07117223739624023 cpu_time: 0.19391226799999828 metrics: {'classified instances': 2000.0, 'classifications correct (percent)': 84.0, 'Kappa Statistic (percent)': 66.56748353448563, 'Kappa Temporal Statistic (percent)': -13.879003558718917, 'Kappa M Statistic (percent)': 59.39086294416243, 'F1 Score (percent)': 83.28381505321872, 'F1 Score for class 0 (percent)': 86.74399337199668, 'F1 Score for class 1 (percent)': 79.82345523329128, 'Precision (percent)': 83.26942115618381, 'Precision for class 0 (percent)': 86.81592039800995, 'Precision for class 1 (percent)': 79.72292191435768, 'Recall (percent)': 83.29821392735299, 'Recall for class 0 (percent)': 86.67218543046357, 'Recall for class 1 (percent)': 79.92424242424242}\n"
     ]
    }
   ],
   "source": [
    "from moa.classifiers.bayes import NaiveBayes\n",
    "\n",
    "NaiveBayes_moa = MOAClassifier(schema=elec_stream.schema, moa_learner=NaiveBayes())\n",
    "\n",
    "results = test_then_train_evaluation(stream=elec_stream, learner=NaiveBayes_moa)\n",
    "print(f\"{NaiveBayes_moa} wallclock: {results['wallclock']} cpu_time: {results['cpu_time']} metrics: {results['cumulative']}\")"
   ]
  },
  {
   "cell_type": "code",
   "execution_count": 17,
   "id": "6fa952e8-08e3-4e6f-88ad-dac1aaea94ef",
   "metadata": {
    "execution": {
     "iopub.execute_input": "2024-02-29T01:28:35.226680Z",
     "iopub.status.busy": "2024-02-29T01:28:35.226441Z",
     "iopub.status.idle": "2024-02-29T01:28:35.913469Z",
     "shell.execute_reply": "2024-02-29T01:28:35.910160Z"
    }
   },
   "outputs": [
    {
     "name": "stdout",
     "output_type": "stream",
     "text": [
      "StreamingRandomPatches wallclock: 0.6675782203674316 cpu_time: 1.8824357859999985 metrics: {'classified instances': 2000.0, 'classifications correct (percent)': 88.75, 'Kappa Statistic (percent)': 76.35402128768642, 'Kappa Temporal Statistic (percent)': 19.928825622775744, 'Kappa M Statistic (percent)': 71.4467005076142, 'F1 Score (percent)': 88.19027989119654, 'F1 Score for class 0 (percent)': 90.78246620237607, 'F1 Score for class 1 (percent)': 85.56767158434894, 'Precision (percent)': 88.41215762532106, 'Precision for class 0 (percent)': 89.86212489862126, 'Precision for class 1 (percent)': 86.96219035202087, 'Recall (percent)': 87.96951301090374, 'Recall for class 0 (percent)': 91.72185430463577, 'Recall for class 1 (percent)': 84.21717171717171}\n"
     ]
    }
   ],
   "source": [
    "from moa.classifiers.meta import StreamingRandomPatches\n",
    "\n",
    "SRP_moa = MOAClassifier(schema=elec_stream.schema, moa_learner=StreamingRandomPatches(), CLI=\"-s 5 -u\")\n",
    "\n",
    "results = test_then_train_evaluation(stream=elec_stream, learner=SRP_moa)\n",
    "print(f\"{SRP_moa} wallclock: {results['wallclock']} cpu_time: {results['cpu_time']} metrics: {results['cumulative']}\")"
   ]
  }
 ],
 "metadata": {
  "kernelspec": {
   "display_name": "Python 3 (ipykernel)",
   "language": "python",
   "name": "python3"
  },
  "language_info": {
   "codemirror_mode": {
    "name": "ipython",
    "version": 3
   },
   "file_extension": ".py",
   "mimetype": "text/x-python",
   "name": "python",
   "nbconvert_exporter": "python",
   "pygments_lexer": "ipython3",
   "version": "3.10.0"
  }
 },
 "nbformat": 4,
 "nbformat_minor": 5
}
