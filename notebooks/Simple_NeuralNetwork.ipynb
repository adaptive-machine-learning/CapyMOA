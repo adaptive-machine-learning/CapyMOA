{
 "cells": [
  {
   "attachments": {},
   "cell_type": "markdown",
   "id": "b773bf8e-c420-44e1-80a6-99f75dd12268",
   "metadata": {},
   "source": [
    "## Using simple Pytorch NeuralNetwork model with a MOA evaluator\n",
    "\n",
    "* Example showing how a simple Pytorch model can be used with our ```Instance``` representation and MOA evaluator\n",
    "**Make sure you install Pytorch in your environment (https://pytorch.org/)**\n",
    "\n",
    "**notebook last updated on 03/12/2023**"
   ]
  },
  {
   "attachments": {},
   "cell_type": "markdown",
   "id": "96cb3df1-190c-49ea-959b-292559df13e6",
   "metadata": {},
   "source": [
    "## 0. Reading data and accessing x()"
   ]
  },
  {
   "cell_type": "code",
   "execution_count": 1,
   "id": "3b7be7ed-97d2-437a-9ed9-fb71e4f33328",
   "metadata": {
    "ExecuteTime": {
     "end_time": "2023-12-03T08:38:59.769504Z",
     "start_time": "2023-12-03T08:38:57.307505Z"
    },
    "execution": {
     "iopub.execute_input": "2024-02-22T02:03:48.570399Z",
     "iopub.status.busy": "2024-02-22T02:03:48.569619Z",
     "iopub.status.idle": "2024-02-22T02:03:49.387808Z",
     "shell.execute_reply": "2024-02-22T02:03:49.386686Z"
    }
   },
   "outputs": [
    {
     "name": "stdout",
     "output_type": "stream",
     "text": [
      "capymoa_root: /home/antonlee/github.com/tachyonicClock/MOABridge/src/capymoa\n",
      "MOA jar path location (config.ini): /home/antonlee/github.com/tachyonicClock/MOABridge/src/capymoa/jar/moa.jar\n",
      "JVM Location (system): \n",
      "JAVA_HOME: /usr/lib/jvm/java-17-openjdk\n",
      "JVM args: ['-Xmx8g', '-Xss10M']\n"
     ]
    },
    {
     "name": "stdout",
     "output_type": "stream",
     "text": [
      "Sucessfully started the JVM and added MOA jar to the class path\n"
     ]
    },
    {
     "name": "stdout",
     "output_type": "stream",
     "text": [
      "x: [0.       0.056443 0.439155 0.003467 0.422915 0.414912], y: 1\n",
      "x: [0.021277 0.051699 0.415055 0.003467 0.422915 0.414912], y: 1\n",
      "x: [0.042553 0.051489 0.385004 0.003467 0.422915 0.414912], y: 1\n",
      "x: [0.06383  0.045485 0.314639 0.003467 0.422915 0.414912], y: 1\n",
      "x: [0.085106 0.042482 0.251116 0.003467 0.422915 0.414912], y: 0\n",
      "x: [0.106383 0.041161 0.207528 0.003467 0.422915 0.414912], y: 0\n",
      "x: [0.12766  0.041161 0.171824 0.003467 0.422915 0.414912], y: 0\n",
      "x: [0.148936 0.041161 0.152782 0.003467 0.422915 0.414912], y: 0\n",
      "x: [0.170213 0.041161 0.13493  0.003467 0.422915 0.414912], y: 0\n",
      "x: [0.191489 0.041161 0.140583 0.003467 0.422915 0.414912], y: 0\n",
      "x: [0.212766 0.044374 0.168997 0.003467 0.422915 0.414912], y: 1\n",
      "x: [0.234043 0.049868 0.212437 0.003467 0.422915 0.414912], y: 1\n",
      "x: [0.255319 0.051489 0.298721 0.003467 0.422915 0.414912], y: 1\n",
      "x: [0.276596 0.042482 0.39036  0.003467 0.422915 0.414912], y: 0\n",
      "x: [0.297872 0.040861 0.402261 0.003467 0.422915 0.414912], y: 0\n",
      "x: [0.319149 0.040711 0.462214 0.003467 0.422915 0.414912], y: 0\n",
      "x: [0.340426 0.040861 0.488248 0.003467 0.422915 0.414912], y: 0\n",
      "x: [0.361702 0.040711 0.493306 0.003467 0.422915 0.414912], y: 0\n",
      "x: [0.382979 0.041041 0.53258  0.003467 0.422915 0.414912], y: 0\n",
      "x: [0.404255 0.041161 0.546415 0.003467 0.422915 0.414912], y: 0\n"
     ]
    }
   ],
   "source": [
    "from capymoa.stream import stream_from_file\n",
    "from capymoa.datasets import ElectricityTiny\n",
    "\n",
    "DATA_PATH = \"../data/\"\n",
    "\n",
    "## Opening a file as a stream\n",
    "elec_stream = ElectricityTiny()\n",
    "\n",
    "elec_stream.restart()\n",
    "i = 0\n",
    "while elec_stream.has_more_instances():\n",
    "    instance = elec_stream.next_instance()\n",
    "    if i < 20: # prevent printing all the instances\n",
    "        print(f'x: {instance.x()}, y: {instance.y()}')\n",
    "    i+=1"
   ]
  },
  {
   "cell_type": "code",
   "execution_count": 2,
   "id": "38d831be-3560-4efd-89bd-1ec71f001833",
   "metadata": {
    "ExecuteTime": {
     "end_time": "2023-12-03T08:39:01.484815Z",
     "start_time": "2023-12-03T08:39:01.477002Z"
    },
    "execution": {
     "iopub.execute_input": "2024-02-22T02:03:49.391840Z",
     "iopub.status.busy": "2024-02-22T02:03:49.391537Z",
     "iopub.status.idle": "2024-02-22T02:03:49.399303Z",
     "shell.execute_reply": "2024-02-22T02:03:49.398473Z"
    }
   },
   "outputs": [
    {
     "name": "stdout",
     "output_type": "stream",
     "text": [
      "Number of classes: 2\n",
      "Number of features/attributes: 6\n",
      "    @attribute period numeric\n",
      "    0.659574\n",
      "    @attribute nswprice numeric\n",
      "    0.10475\n",
      "    @attribute nswdemand numeric\n",
      "    0.543737\n",
      "    @attribute vicprice numeric\n",
      "    0.003467\n",
      "    @attribute vicdemand numeric\n",
      "    0.422915\n",
      "    @attribute transfer numeric\n",
      "    0.414912\n"
     ]
    }
   ],
   "source": [
    "# Getting some extra information about the instance through the MOA representation. \n",
    "moa_instance = instance.get_MOA_InstanceExample().getData()\n",
    "print(f'Number of classes: {moa_instance.numClasses()}')\n",
    "print(f'Number of features/attributes: {moa_instance.numInputAttributes()}')\n",
    "\n",
    "for i in range(0, moa_instance.numInputAttributes()):\n",
    "    print(f'    {moa_instance.attribute(i)}')\n",
    "    print(f'    {moa_instance.value(i)}')"
   ]
  },
  {
   "attachments": {},
   "cell_type": "markdown",
   "id": "3e2ee6cd888826d",
   "metadata": {
    "collapsed": false
   },
   "source": [
    "## 1. Using Pytorch model with MOA evaluator\n",
    "\n",
    "* Example showing how a simple Pytorch model can be used with our ```Instance``` representation and MOA evaluator\n",
    "* Uses CPU device\n",
    "* Model is initialized after receiving the first instance"
   ]
  },
  {
   "cell_type": "code",
   "execution_count": 3,
   "id": "28c87878ee6de83f",
   "metadata": {
    "ExecuteTime": {
     "end_time": "2023-12-03T08:39:14.442525Z",
     "start_time": "2023-12-03T08:39:11.361827Z"
    },
    "collapsed": false,
    "execution": {
     "iopub.execute_input": "2024-02-22T02:03:49.403309Z",
     "iopub.status.busy": "2024-02-22T02:03:49.403048Z",
     "iopub.status.idle": "2024-02-22T02:03:50.638799Z",
     "shell.execute_reply": "2024-02-22T02:03:50.637131Z"
    }
   },
   "outputs": [
    {
     "name": "stdout",
     "output_type": "stream",
     "text": [
      "Using cpu device\n"
     ]
    }
   ],
   "source": [
    "import torch\n",
    "from torch import nn\n",
    "\n",
    "# Get cpu device for training.\n",
    "device = (\"cpu\")\n",
    "print(f\"Using {device} device\")\n",
    "\n",
    "# Define model\n",
    "class NeuralNetwork(nn.Module):\n",
    "    def __init__(self, input_size=0, number_of_classes=0):\n",
    "        super().__init__()\n",
    "        self.flatten = nn.Flatten()\n",
    "        self.linear_relu_stack = nn.Sequential(\n",
    "            nn.Linear(input_size, 512),\n",
    "            nn.ReLU(),\n",
    "            nn.Linear(512, 512),\n",
    "            nn.ReLU(),\n",
    "            nn.Linear(512, number_of_classes)\n",
    "        )\n",
    "\n",
    "    def forward(self, x):\n",
    "        x = self.flatten(x)\n",
    "        logits = self.linear_relu_stack(x)\n",
    "        return logits\n",
    "\n",
    "\n",
    "model = None\n",
    "optimizer = None\n",
    "loss_fn = nn.CrossEntropyLoss()\n"
   ]
  },
  {
   "cell_type": "code",
   "execution_count": 4,
   "id": "10aa0ccfb7839e99",
   "metadata": {
    "ExecuteTime": {
     "end_time": "2023-12-03T08:40:17.878908Z",
     "start_time": "2023-12-03T08:39:23.127928Z"
    },
    "collapsed": false,
    "execution": {
     "iopub.execute_input": "2024-02-22T02:03:50.645058Z",
     "iopub.status.busy": "2024-02-22T02:03:50.644241Z",
     "iopub.status.idle": "2024-02-22T02:03:55.466245Z",
     "shell.execute_reply": "2024-02-22T02:03:55.465470Z"
    }
   },
   "outputs": [
    {
     "name": "stdout",
     "output_type": "stream",
     "text": [
      "NeuralNetwork(\n",
      "  (flatten): Flatten(start_dim=1, end_dim=-1)\n",
      "  (linear_relu_stack): Sequential(\n",
      "    (0): Linear(in_features=6, out_features=512, bias=True)\n",
      "    (1): ReLU()\n",
      "    (2): Linear(in_features=512, out_features=512, bias=True)\n",
      "    (3): ReLU()\n",
      "    (4): Linear(in_features=512, out_features=2, bias=True)\n",
      "  )\n",
      ")\n"
     ]
    },
    {
     "name": "stdout",
     "output_type": "stream",
     "text": [
      "Accuracy at 500 : 53.400000000000006\n"
     ]
    },
    {
     "name": "stdout",
     "output_type": "stream",
     "text": [
      "Accuracy at 1000 : 59.199999999999996\n"
     ]
    },
    {
     "name": "stdout",
     "output_type": "stream",
     "text": [
      "Accuracy at 1500 : 64.33333333333333\n"
     ]
    },
    {
     "name": "stdout",
     "output_type": "stream",
     "text": [
      "Accuracy at 2000 : 63.449999999999996\n",
      "Accuracy at 2000 : 63.449999999999996\n"
     ]
    }
   ],
   "source": [
    "from capymoa.evaluation import ClassificationEvaluator\n",
    "\n",
    "# Creating the evaluator\n",
    "evaluator = ClassificationEvaluator(schema=elec_stream.get_schema())\n",
    "\n",
    "## Opening a file again to strat from the beginning\n",
    "elec_stream = ElectricityTiny()\n",
    "i = 0\n",
    "while elec_stream.has_more_instances():\n",
    "    i += 1\n",
    "    instance = elec_stream.next_instance()\n",
    "    if model is None:\n",
    "        moa_instance = instance.get_MOA_InstanceExample().getData()\n",
    "        # initialize the model and send it to the device\n",
    "        model = NeuralNetwork(input_size=moa_instance.numInputAttributes(), number_of_classes=moa_instance.numClasses()).to(device)\n",
    "        # set the optimizer\n",
    "        optimizer = torch.optim.SGD(model.parameters(), lr=1e-3)\n",
    "        print(model)\n",
    "    \n",
    "    X = torch.tensor(instance.x(), dtype=torch.float32)\n",
    "    y = torch.tensor(instance.y_index(), dtype=torch.long)\n",
    "    # set the device and add a dimension to the tensor\n",
    "    X, y = torch.unsqueeze(X.to(device), 0), torch.unsqueeze(y.to(device),0) \n",
    "    \n",
    "    # turn off gradient collection for test\n",
    "    with torch.no_grad():\n",
    "        pred = model(X)\n",
    "        prediction = torch.argmax(pred)\n",
    "\n",
    "    # update evaluator with predicted class\n",
    "    evaluator.update(instance.y(), instance.schema.get_value_for_index(prediction))\n",
    "  \n",
    "    # Compute prediction error\n",
    "    pred = model(X)\n",
    "    loss = loss_fn(pred, y)\n",
    "\n",
    "    # Backpropagation\n",
    "    loss.backward()\n",
    "    optimizer.step()\n",
    "    optimizer.zero_grad()\n",
    "    \n",
    "    if i % 500 == 0:\n",
    "        print(f'Accuracy at {i} : {evaluator.accuracy()}')\n",
    "    \n",
    "print(f'Accuracy at {i} : {evaluator.accuracy()}')"
   ]
  },
  {
   "attachments": {},
   "cell_type": "markdown",
   "id": "6f7cccf5dfb93550",
   "metadata": {
    "collapsed": false
   },
   "source": [
    "## 2. How to use TensorBoard with PyTorch"
   ]
  },
  {
   "attachments": {},
   "cell_type": "markdown",
   "id": "43078242df35b155",
   "metadata": {
    "collapsed": false
   },
   "source": [
    "Install TensorBoard through the command line to visualize data you logged\n",
    "\n",
    "```sh\n",
    "pip install tensorboard\n",
    "```"
   ]
  },
  {
   "attachments": {},
   "cell_type": "markdown",
   "id": "8ac091a2fe4cf209",
   "metadata": {
    "collapsed": false
   },
   "source": [
    "Clear any logs from previous runs\n",
    "\n",
    "```sh\n",
    "rm -rf ./runs\n",
    "```"
   ]
  },
  {
   "attachments": {},
   "cell_type": "markdown",
   "id": "db2288d0cae3250e",
   "metadata": {
    "collapsed": false
   },
   "source": [
    "Create a SummaryWriter instance."
   ]
  },
  {
   "cell_type": "code",
   "execution_count": 1,
   "id": "e87c2180",
   "metadata": {},
   "outputs": [
    {
     "name": "stdout",
     "output_type": "stream",
     "text": [
      "Requirement already satisfied: tensorboard in /local/scratch/antonlee/miniconda3/envs/capymoa/lib/python3.10/site-packages (2.16.2)\n",
      "Requirement already satisfied: absl-py>=0.4 in /local/scratch/antonlee/miniconda3/envs/capymoa/lib/python3.10/site-packages (from tensorboard) (2.1.0)\n",
      "Requirement already satisfied: grpcio>=1.48.2 in /local/scratch/antonlee/miniconda3/envs/capymoa/lib/python3.10/site-packages (from tensorboard) (1.62.0)\n",
      "Requirement already satisfied: markdown>=2.6.8 in /local/scratch/antonlee/miniconda3/envs/capymoa/lib/python3.10/site-packages (from tensorboard) (3.5.2)\n",
      "Requirement already satisfied: numpy>=1.12.0 in /local/scratch/antonlee/miniconda3/envs/capymoa/lib/python3.10/site-packages (from tensorboard) (1.26.4)\n",
      "Requirement already satisfied: protobuf!=4.24.0,>=3.19.6 in /local/scratch/antonlee/miniconda3/envs/capymoa/lib/python3.10/site-packages (from tensorboard) (4.25.3)\n",
      "Requirement already satisfied: setuptools>=41.0.0 in /local/scratch/antonlee/miniconda3/envs/capymoa/lib/python3.10/site-packages (from tensorboard) (68.2.2)\n",
      "Requirement already satisfied: six>1.9 in /local/scratch/antonlee/miniconda3/envs/capymoa/lib/python3.10/site-packages (from tensorboard) (1.16.0)\n",
      "Requirement already satisfied: tensorboard-data-server<0.8.0,>=0.7.0 in /local/scratch/antonlee/miniconda3/envs/capymoa/lib/python3.10/site-packages (from tensorboard) (0.7.2)\n",
      "Requirement already satisfied: werkzeug>=1.0.1 in /local/scratch/antonlee/miniconda3/envs/capymoa/lib/python3.10/site-packages (from tensorboard) (3.0.1)\n",
      "Requirement already satisfied: MarkupSafe>=2.1.1 in /local/scratch/antonlee/miniconda3/envs/capymoa/lib/python3.10/site-packages (from werkzeug>=1.0.1->tensorboard) (2.1.5)\n"
     ]
    }
   ],
   "source": [
    "!pip install tensorboard"
   ]
  },
  {
   "cell_type": "code",
   "execution_count": 5,
   "id": "8ec688a5b4af052f",
   "metadata": {
    "ExecuteTime": {
     "end_time": "2023-12-03T08:46:58.941683Z",
     "start_time": "2023-12-03T08:46:58.796558Z"
    },
    "collapsed": false,
    "execution": {
     "iopub.execute_input": "2024-02-22T02:03:55.469141Z",
     "iopub.status.busy": "2024-02-22T02:03:55.468680Z",
     "iopub.status.idle": "2024-02-22T02:03:55.527741Z",
     "shell.execute_reply": "2024-02-22T02:03:55.526802Z"
    }
   },
   "outputs": [],
   "source": [
    "from torch.utils.tensorboard import SummaryWriter\n",
    "writer = SummaryWriter()"
   ]
  },
  {
   "attachments": {},
   "cell_type": "markdown",
   "id": "3bf9fc5f5d481206",
   "metadata": {
    "collapsed": false
   },
   "source": [
    "Writer will output to ./runs/ directory by default."
   ]
  },
  {
   "cell_type": "code",
   "execution_count": 6,
   "id": "b5d0d6dd10dacc37",
   "metadata": {
    "ExecuteTime": {
     "end_time": "2023-12-03T08:48:08.339851Z",
     "start_time": "2023-12-03T08:47:18.177021Z"
    },
    "collapsed": false,
    "execution": {
     "iopub.execute_input": "2024-02-22T02:03:55.532078Z",
     "iopub.status.busy": "2024-02-22T02:03:55.531794Z",
     "iopub.status.idle": "2024-02-22T02:03:59.139893Z",
     "shell.execute_reply": "2024-02-22T02:03:59.138040Z"
    }
   },
   "outputs": [
    {
     "name": "stdout",
     "output_type": "stream",
     "text": [
      "Accuracy at 500 : 54.6\n"
     ]
    },
    {
     "name": "stdout",
     "output_type": "stream",
     "text": [
      "Accuracy at 1000 : 60.8\n"
     ]
    },
    {
     "name": "stdout",
     "output_type": "stream",
     "text": [
      "Accuracy at 1500 : 65.60000000000001\n"
     ]
    },
    {
     "name": "stdout",
     "output_type": "stream",
     "text": [
      "Accuracy at 2000 : 64.45\n"
     ]
    }
   ],
   "source": [
    "from capymoa.evaluation import ClassificationEvaluator\n",
    "\n",
    "# Creating the evaluator\n",
    "evaluator = ClassificationEvaluator(schema=elec_stream.get_schema())\n",
    "\n",
    "## Opening a file again to strat from the beginning\n",
    "elec_stream = ElectricityTiny()\n",
    "i = 0\n",
    "while elec_stream.has_more_instances():\n",
    "    i += 1\n",
    "    instance = elec_stream.next_instance()\n",
    "    if model is None:\n",
    "        moa_instance = instance.get_MOA_InstanceExample().getData()\n",
    "        # initialize the model and send it to the device\n",
    "        model = NeuralNetwork(input_size=moa_instance.numInputAttributes(), number_of_classes=moa_instance.numClasses()).to(device)\n",
    "        # set the optimizer\n",
    "        optimizer = torch.optim.SGD(model.parameters(), lr=1e-3)\n",
    "        print(model)\n",
    "    \n",
    "    X = torch.tensor(instance.x(), dtype=torch.float32)\n",
    "    y = torch.tensor(instance.y_index(), dtype=torch.long)\n",
    "    # set the device and add a dimension to the tensor\n",
    "    X, y = torch.unsqueeze(X.to(device), 0), torch.unsqueeze(y.to(device),0) \n",
    "    \n",
    "    # turn off gradient collection for test\n",
    "    with torch.no_grad():\n",
    "        pred = model(X)\n",
    "        prediction = instance.schema.get_value_for_index(torch.argmax(pred))\n",
    "\n",
    "    # update evaluator with predicted class\n",
    "    evaluator.update(instance.y(), prediction)\n",
    "  \n",
    "    # Compute prediction error\n",
    "    pred = model(X)\n",
    "    loss = loss_fn(pred, y)\n",
    "\n",
    "    # Backpropagation\n",
    "    loss.backward()\n",
    "    optimizer.step()\n",
    "    optimizer.zero_grad()\n",
    "    \n",
    "    if i % 500 == 0:\n",
    "        print(f'Accuracy at {i} : {evaluator.accuracy()}')\n",
    "        writer.add_scalar(\"accuracy\", evaluator.accuracy(), i)\n",
    "    \n",
    "writer.add_scalar(\"accuracy\", evaluator.accuracy(), i)\n",
    "writer.flush()"
   ]
  },
  {
   "attachments": {},
   "cell_type": "markdown",
   "id": "4b0ff08045e19911",
   "metadata": {
    "collapsed": false
   },
   "source": [
    "Call flush() method to make sure that all pending events have been written to disk.\n",
    "\n",
    "See torch.utils.tensorboard tutorials to find more TensorBoard visualization types you can log.\n"
   ]
  },
  {
   "cell_type": "code",
   "execution_count": 7,
   "id": "b228ae7468b3e4f1",
   "metadata": {
    "ExecuteTime": {
     "end_time": "2023-12-03T08:49:14.066571Z",
     "start_time": "2023-12-03T08:49:14.058709Z"
    },
    "collapsed": false,
    "execution": {
     "iopub.execute_input": "2024-02-22T02:03:59.143196Z",
     "iopub.status.busy": "2024-02-22T02:03:59.142818Z",
     "iopub.status.idle": "2024-02-22T02:03:59.147030Z",
     "shell.execute_reply": "2024-02-22T02:03:59.146358Z"
    }
   },
   "outputs": [],
   "source": [
    "# If you do not need the summary writer anymore, call close() method.\n",
    "writer.close()"
   ]
  },
  {
   "attachments": {},
   "cell_type": "markdown",
   "id": "41e42734ee9ce0f1",
   "metadata": {
    "collapsed": false
   },
   "source": [
    "\n",
    "```\n",
    "# This is formatted as code\n",
    "```\n",
    "\n",
    "## Run TensorBoard\n",
    "Now, start TensorBoard, specifying the root log directory you used above. \n",
    "Argument ``logdir`` points to directory where TensorBoard will look to find \n",
    "event files that it can display. TensorBoard will recursively walk \n",
    "the directory structure rooted at ``logdir``, looking for ``.*tfevents.*`` files.\n",
    "\n",
    "```sh\n",
    "tensorboard --logdir=runs\n",
    "```\n",
    "Go to the URL it provides\n",
    "\n",
    "This dashboard shows how the accuracy change with time. \n",
    "You can use it to also track training speed, learning rate, and other \n",
    "scalar values."
   ]
  }
 ],
 "metadata": {
  "kernelspec": {
   "display_name": "Python 3 (ipykernel)",
   "language": "python",
   "name": "python3"
  },
  "language_info": {
   "codemirror_mode": {
    "name": "ipython",
    "version": 3
   },
   "file_extension": ".py",
   "mimetype": "text/x-python",
   "name": "python",
   "nbconvert_exporter": "python",
   "pygments_lexer": "ipython3",
   "version": "3.10.0"
  }
 },
 "nbformat": 4,
 "nbformat_minor": 5
}
