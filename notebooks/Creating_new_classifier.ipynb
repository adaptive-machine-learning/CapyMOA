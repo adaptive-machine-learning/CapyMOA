{
 "cells": [
  {
   "attachments": {},
   "cell_type": "markdown",
   "id": "b773bf8e-c420-44e1-80a6-99f75dd12268",
   "metadata": {},
   "source": [
    "## Creating a new classifier\n",
    "\n",
    "* Demonstrate how to create a new classifier\n",
    "* We show how one can implement Online Bagging (OzaBag)\n",
    "\n",
    "**notebook last updated on 15/12/2023**"
   ]
  },
  {
   "attachments": {},
   "cell_type": "markdown",
   "id": "076b1b20-bb48-43f0-b3ac-38e984ff2745",
   "metadata": {},
   "source": [
    "## 0 Auxiliary function for Online Bagging"
   ]
  },
  {
   "cell_type": "code",
   "execution_count": 1,
   "id": "fac5566f-a280-41b2-912d-005673ad429e",
   "metadata": {
    "execution": {
     "iopub.execute_input": "2024-03-21T04:38:40.494712Z",
     "iopub.status.busy": "2024-03-21T04:38:40.494559Z",
     "iopub.status.idle": "2024-03-21T04:38:40.505528Z",
     "shell.execute_reply": "2024-03-21T04:38:40.504889Z"
    }
   },
   "outputs": [],
   "source": [
    "import random\n",
    "import math\n",
    "\n",
    "def poisson(lambd, random_generator):\n",
    "    if lambd < 100.0:\n",
    "        product = 1.0\n",
    "        _sum = 1.0\n",
    "        threshold = random_generator.random() * math.exp(lambd)\n",
    "        i = 1\n",
    "        max_val = max(100, 10 * math.ceil(lambd))\n",
    "        while i < max_val and _sum <= threshold:\n",
    "            product *= (lambd / i)\n",
    "            _sum += product\n",
    "            i += 1\n",
    "        return i - 1\n",
    "    x = lambd + math.sqrt(lambd) * random_generator.gauss(0, 1)\n",
    "    if x < 0.0:\n",
    "        return 0\n",
    "    return int(math.floor(x))"
   ]
  },
  {
   "attachments": {},
   "cell_type": "markdown",
   "id": "96cb3df1-190c-49ea-959b-292559df13e6",
   "metadata": {},
   "source": [
    "## 1. Creating the classifier\n",
    "\n",
    "* To create a classifier, one just need to implement the methods from ```Classifier``` from the ```learners``` module.\n",
    "* In this example, we are using a ```MOA base learner``` and internally we create ```MOAClassifier``` to be added to the ensemble\n",
    "* Methods to be implemented:\n",
    "  * ```__init__(self, schema=None, random_seed=1, ...)```\n",
    "  * ```train(self, instance)```\n",
    "  * ```predict(self, instance)```\n",
    "  * ```predict_proba(self, instance)```"
   ]
  },
  {
   "cell_type": "code",
   "execution_count": 2,
   "id": "3b7be7ed-97d2-437a-9ed9-fb71e4f33328",
   "metadata": {
    "execution": {
     "iopub.execute_input": "2024-03-21T04:38:40.507688Z",
     "iopub.status.busy": "2024-03-21T04:38:40.507523Z",
     "iopub.status.idle": "2024-03-21T04:38:43.548531Z",
     "shell.execute_reply": "2024-03-21T04:38:43.547962Z"
    }
   },
   "outputs": [
    {
     "name": "stdout",
     "output_type": "stream",
     "text": [
      "capymoa_root: /home/antonlee/github.com/tachyonicClock/MOABridge/src/capymoa\n",
      "MOA jar path location (config.ini): /home/antonlee/github.com/tachyonicClock/MOABridge/src/capymoa/jar/moa.jar\n",
      "JVM Location (system): \n",
      "JAVA_HOME: /usr/lib/jvm/java-17-openjdk\n",
      "JVM args: ['-Xmx8g', '-Xss10M']\n"
     ]
    },
    {
     "name": "stdout",
     "output_type": "stream",
     "text": [
      "Sucessfully started the JVM and added MOA jar to the class path\n"
     ]
    }
   ],
   "source": [
    "from capymoa.learner.learners import Classifier, MOAClassifier\n",
    "from moa.classifiers.trees import HoeffdingTree\n",
    "from collections import Counter\n",
    "import numpy as np\n",
    "\n",
    "class SimpleOnlineBagging(Classifier):\n",
    "    def __init__(self, schema=None, random_seed=1, ensemble_size=5, moa_base_learner_class=None):\n",
    "        super().__init__(schema=schema, random_seed=random_seed)\n",
    "\n",
    "        self.random_generator = random.Random()\n",
    "        \n",
    "        self.ensemble_size = ensemble_size\n",
    "        self.moa_base_learner_class = moa_base_learner_class\n",
    "        \n",
    "        # Default base learner if None is specified\n",
    "        if self.moa_base_learner_class is None:\n",
    "            self.moa_base_learner_class = HoeffdingTree\n",
    "        \n",
    "        self.ensemble = []\n",
    "        # Create several instances for the base_learners\n",
    "        for i in range(self.ensemble_size): \n",
    "            self.ensemble.append(MOAClassifier(schema=self.schema, moa_learner=self.moa_base_learner_class()))\n",
    "        \n",
    "    def __str__(self):\n",
    "        return 'SimpleOnlineBagging'\n",
    "\n",
    "    def train(self, instance):\n",
    "        for i in range(self.ensemble_size):\n",
    "            k = poisson(1.0, self.random_generator)\n",
    "            for _ in range(k):\n",
    "                self.ensemble[i].train(instance)\n",
    "\n",
    "    def predict(self, instance):\n",
    "        predictions = []\n",
    "        for i in range(self.ensemble_size):\n",
    "            predictions.append(self.ensemble[i].predict(instance))\n",
    "        majority_vote = Counter(predictions)\n",
    "        prediction = majority_vote.most_common(1)[0][0]\n",
    "        return prediction\n",
    "\n",
    "    def predict_proba(self, instance):\n",
    "        probabilities = []\n",
    "        for i in range(self.ensemble_size):\n",
    "            classifier_proba = self.ensemble[i].predict_proba(instance)\n",
    "            classifier_proba = classifier_proba / np.sum(classifier_proba)\n",
    "            probabilities.append(classifier_proba)\n",
    "        avg_proba = np.mean(probabilities, axis=0)\n",
    "        return avg_proba"
   ]
  },
  {
   "attachments": {},
   "cell_type": "markdown",
   "id": "a4ff1ac9-07a1-4a0b-9bb5-f2afa79dd928",
   "metadata": {},
   "source": [
    "## 2. Using prequential evaluation"
   ]
  },
  {
   "cell_type": "code",
   "execution_count": 3,
   "id": "da2bba35-c258-4fc0-8932-f97d56e4e276",
   "metadata": {
    "execution": {
     "iopub.execute_input": "2024-03-21T04:38:43.552454Z",
     "iopub.status.busy": "2024-03-21T04:38:43.552178Z",
     "iopub.status.idle": "2024-03-21T04:38:54.748944Z",
     "shell.execute_reply": "2024-03-21T04:38:54.748434Z"
    }
   },
   "outputs": [
    {
     "data": {
      "text/plain": [
       "82.21001059322035"
      ]
     },
     "execution_count": 3,
     "metadata": {},
     "output_type": "execute_result"
    }
   ],
   "source": [
    "from capymoa.evaluation import prequential_evaluation\n",
    "from capymoa.stream.stream import stream_from_file\n",
    "from moa.classifiers.trees import HoeffdingAdaptiveTree\n",
    "\n",
    "DATA_PATH = \"../data/\"\n",
    "\n",
    "## Opening a file as a stream\n",
    "elec_stream = stream_from_file(path_to_csv_or_arff=DATA_PATH+\"electricity.csv\")\n",
    "\n",
    "# Creating a learner: using a hoeffding adaptive tree as the base learner\n",
    "NEW_OB = SimpleOnlineBagging(schema=elec_stream.get_schema(), ensemble_size=5, moa_base_learner_class=HoeffdingAdaptiveTree)\n",
    "\n",
    "results_NEW_OB = prequential_evaluation(stream=elec_stream, learner=NEW_OB, window_size=4500)\n",
    "\n",
    "results_NEW_OB['cumulative'].accuracy()"
   ]
  },
  {
   "attachments": {},
   "cell_type": "markdown",
   "id": "c99c28f5-0eb7-49f1-b38b-7e6891d5f30a",
   "metadata": {},
   "source": [
    "## 3. Unpacking the train-test loop"
   ]
  },
  {
   "cell_type": "code",
   "execution_count": 4,
   "id": "3da81297-af63-4d30-a643-81f347304efa",
   "metadata": {
    "execution": {
     "iopub.execute_input": "2024-03-21T04:38:54.751290Z",
     "iopub.status.busy": "2024-03-21T04:38:54.751039Z",
     "iopub.status.idle": "2024-03-21T04:39:00.386757Z",
     "shell.execute_reply": "2024-03-21T04:39:00.386287Z"
    }
   },
   "outputs": [
    {
     "name": "stdout",
     "output_type": "stream",
     "text": [
      "NEW OB acc: 82.27621822033898\n",
      "CPU times: user 5.12 s, sys: 14.8 ms, total: 5.14 s\n",
      "Wall time: 5.63 s\n"
     ]
    }
   ],
   "source": [
    "%%time\n",
    "from capymoa.stream.stream import stream_from_file\n",
    "from capymoa.evaluation import ClassificationEvaluator\n",
    "from moa.classifiers.trees import HoeffdingTree, HoeffdingAdaptiveTree\n",
    "\n",
    "DATA_PATH = \"../data/\"\n",
    "\n",
    "## Opening a file as a stream\n",
    "elec_stream = stream_from_file(path_to_csv_or_arff=DATA_PATH+\"electricity.csv\")\n",
    "\n",
    "# Creating a learner\n",
    "NEW_OB = SimpleOnlineBagging(schema=elec_stream.get_schema(), ensemble_size=5, moa_base_learner_class=HoeffdingAdaptiveTree)\n",
    "\n",
    "# Creating the evaluator\n",
    "NEW_OB_evaluator = ClassificationEvaluator(schema=elec_stream.get_schema())\n",
    "\n",
    "MAX_instances = 100\n",
    "i = 0\n",
    "while elec_stream.has_more_instances(): # and i < MAX_instances:\n",
    "    instance = elec_stream.next_instance()\n",
    "\n",
    "    prediction = NEW_OB.predict(instance)\n",
    "    NEW_OB_evaluator.update(instance.y_index, prediction)\n",
    "    NEW_OB.train(instance)\n",
    "\n",
    "    i+=1\n",
    "\n",
    "print(f'NEW OB acc: {NEW_OB_evaluator.accuracy()}')"
   ]
  }
 ],
 "metadata": {
  "kernelspec": {
   "display_name": "Python 3 (ipykernel)",
   "language": "python",
   "name": "python3"
  },
  "language_info": {
   "codemirror_mode": {
    "name": "ipython",
    "version": 3
   },
   "file_extension": ".py",
   "mimetype": "text/x-python",
   "name": "python",
   "nbconvert_exporter": "python",
   "pygments_lexer": "ipython3",
   "version": "3.11.0"
  }
 },
 "nbformat": 4,
 "nbformat_minor": 5
}
