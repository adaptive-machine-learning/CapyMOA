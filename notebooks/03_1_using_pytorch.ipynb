{
 "cells": [
  {
   "attachments": {},
   "cell_type": "markdown",
   "id": "b773bf8e-c420-44e1-80a6-99f75dd12268",
   "metadata": {},
   "source": [
    "# Using Pytorch\n",
    "\n",
    "* Demonstrate how someone can directly use Pytorch with CapyMOA."
   ]
  },
  {
   "attachments": {},
   "cell_type": "markdown",
   "id": "cd9a931c-7b86-4bd6-8cda-179154e4b513",
   "metadata": {},
   "source": [
    "## Using PyTorch\n",
    "* Example showing how a simple Pytorch model can be used with our ```Instance``` representation and MOA evaluator\n",
    "* Uses CPU device\n",
    "* Model is initialized after receiving the first instance"
   ]
  },
  {
   "attachments": {},
   "cell_type": "markdown",
   "id": "9b6d4a63467b23b5",
   "metadata": {
    "collapsed": false,
    "jupyter": {
     "outputs_hidden": false
    }
   },
   "source": [
    "### Set random seeds"
   ]
  },
  {
   "cell_type": "code",
   "id": "2242896e95964ef4",
   "metadata": {
    "collapsed": false,
    "jupyter": {
     "outputs_hidden": false
    },
    "ExecuteTime": {
     "end_time": "2024-04-26T01:25:10.511554Z",
     "start_time": "2024-04-26T01:25:10.499942Z"
    }
   },
   "source": [
    "import random\n",
    "random_seed=1\n",
    "random.seed(random_seed)"
   ],
   "outputs": [],
   "execution_count": 1
  },
  {
   "attachments": {},
   "cell_type": "markdown",
   "id": "ccbccfce41f2f18",
   "metadata": {
    "collapsed": false,
    "jupyter": {
     "outputs_hidden": false
    }
   },
   "source": [
    "### Define network structure"
   ]
  },
  {
   "cell_type": "code",
   "id": "fbcd4d91-2b00-4d5a-9c54-f9dd6a291aa5",
   "metadata": {
    "ExecuteTime": {
     "end_time": "2024-04-26T01:25:12.216044Z",
     "start_time": "2024-04-26T01:25:10.515130Z"
    }
   },
   "source": [
    "import torch\n",
    "from torch import nn\n",
    "\n",
    "torch.manual_seed(random_seed)\n",
    "torch.use_deterministic_algorithms(True)\n",
    "\n",
    "# Get cpu device for training.\n",
    "device = (\"cpu\")\n",
    "print(f\"Using {device} device\")\n",
    "\n",
    "# Define model\n",
    "class NeuralNetwork(nn.Module):\n",
    "    def __init__(self, input_size=0, number_of_classes=0):\n",
    "        super().__init__()\n",
    "        self.flatten = nn.Flatten()\n",
    "        self.linear_relu_stack = nn.Sequential(\n",
    "            nn.Linear(input_size, 512),\n",
    "            nn.ReLU(),\n",
    "            nn.Linear(512, 512),\n",
    "            nn.ReLU(),\n",
    "            nn.Linear(512, number_of_classes)\n",
    "        )\n",
    "\n",
    "    def forward(self, x):\n",
    "        x = self.flatten(x)\n",
    "        logits = self.linear_relu_stack(x)\n",
    "        return logits\n",
    "\n",
    "\n",
    "model = None\n",
    "optimizer = None\n",
    "loss_fn = nn.CrossEntropyLoss()"
   ],
   "outputs": [
    {
     "name": "stdout",
     "output_type": "stream",
     "text": [
      "Using cpu device\n"
     ]
    }
   ],
   "execution_count": 2
  },
  {
   "attachments": {},
   "cell_type": "markdown",
   "id": "882b6b292a2de100",
   "metadata": {
    "collapsed": false,
    "jupyter": {
     "outputs_hidden": false
    }
   },
   "source": [
    "### Using instance loop"
   ]
  },
  {
   "cell_type": "code",
   "id": "81092940-5a6b-4377-b550-ed6f5fee711a",
   "metadata": {
    "ExecuteTime": {
     "end_time": "2024-04-26T01:25:20.988809Z",
     "start_time": "2024-04-26T01:25:12.218422Z"
    }
   },
   "source": [
    "from capymoa.evaluation import ClassificationEvaluator\n",
    "from capymoa.datasets import ElectricityTiny\n",
    "\n",
    "elec_stream = ElectricityTiny()\n",
    "\n",
    "# Creating the evaluator\n",
    "evaluator = ClassificationEvaluator(schema=elec_stream.get_schema())\n",
    "\n",
    "i = 0\n",
    "while elec_stream.has_more_instances():\n",
    "    i += 1\n",
    "    instance = elec_stream.next_instance()\n",
    "    if model is None:\n",
    "        moa_instance = instance.java_instance.getData()\n",
    "        # initialize the model and send it to the device\n",
    "        model = NeuralNetwork(input_size=elec_stream.get_schema().get_num_attributes(), \n",
    "                              number_of_classes=elec_stream.get_schema().get_num_classes()).to(device)\n",
    "        # set the optimizer\n",
    "        optimizer = torch.optim.SGD(model.parameters(), lr=1e-3)\n",
    "        print(model)\n",
    "    \n",
    "    X = torch.tensor(instance.x, dtype=torch.float32)\n",
    "    y = torch.tensor(instance.y_index, dtype=torch.long)\n",
    "    # set the device and add a dimension to the tensor\n",
    "    X, y = torch.unsqueeze(X.to(device), 0), torch.unsqueeze(y.to(device),0) \n",
    "    \n",
    "    # turn off gradient collection for test\n",
    "    with torch.no_grad():\n",
    "        pred = model(X)\n",
    "        prediction = torch.argmax(pred)\n",
    "\n",
    "    # update evaluator with predicted class\n",
    "    evaluator.update(instance.y_index, prediction.item())\n",
    "  \n",
    "    # Compute prediction error\n",
    "    pred = model(X)\n",
    "    loss = loss_fn(pred, y)\n",
    "\n",
    "    # Backpropagation\n",
    "    loss.backward()\n",
    "    optimizer.step()\n",
    "    optimizer.zero_grad()\n",
    "    \n",
    "    if i % 500 == 0:\n",
    "        print(f'Accuracy at {i} : {evaluator.accuracy()}')\n",
    "    \n",
    "print(f'Accuracy at {i} : {evaluator.accuracy()}')"
   ],
   "outputs": [
    {
     "name": "stdout",
     "output_type": "stream",
     "text": [
      "capymoa_root: /Users/ng98/Desktop/CODE/CapyMOA_Latest/src/capymoa\n",
      "MOA jar path location (config.ini): /Users/ng98/Desktop/CODE/CapyMOA_Latest/src/capymoa/jar/moa.jar\n",
      "JVM Location (system): \n",
      "JAVA_HOME: /Users/ng98/Library/Java/JavaVirtualMachines/openjdk-14.0.1/Contents/Home\n",
      "JVM args: ['-Xmx8g', '-Xss10M']\n",
      "Sucessfully started the JVM and added MOA jar to the class path\n",
      "NeuralNetwork(\n",
      "  (flatten): Flatten(start_dim=1, end_dim=-1)\n",
      "  (linear_relu_stack): Sequential(\n",
      "    (0): Linear(in_features=6, out_features=512, bias=True)\n",
      "    (1): ReLU()\n",
      "    (2): Linear(in_features=512, out_features=512, bias=True)\n",
      "    (3): ReLU()\n",
      "    (4): Linear(in_features=512, out_features=2, bias=True)\n",
      "  )\n",
      ")\n",
      "Accuracy at 500 : 50.4\n",
      "Accuracy at 1000 : 55.2\n",
      "Accuracy at 1500 : 61.199999999999996\n",
      "Accuracy at 2000 : 61.1\n",
      "Accuracy at 2000 : 61.1\n"
     ]
    }
   ],
   "execution_count": 3
  },
  {
   "attachments": {},
   "cell_type": "markdown",
   "id": "2803eaab-eb2b-4c6e-a246-67f9ac71f70f",
   "metadata": {},
   "source": "### PyTorchClassifier"
  },
  {
   "cell_type": "code",
   "id": "1c75513c-58e8-4499-bb19-2c58aea4567b",
   "metadata": {
    "ExecuteTime": {
     "end_time": "2024-04-26T01:25:21.133050Z",
     "start_time": "2024-04-26T01:25:20.991976Z"
    }
   },
   "source": [
    "from capymoa.base import Classifier\n",
    "import numpy as np\n",
    "\n",
    "class PyTorchClassifier(Classifier):\n",
    "    def __init__(self, schema=None, random_seed=1, nn_model: nn.Module = None, optimizer=None, loss_fn=nn.CrossEntropyLoss(), device=(\"cpu\"), lr=1e-3):\n",
    "        super().__init__(schema, random_seed)\n",
    "        self.model = None\n",
    "        self.optimizer = None\n",
    "        self.loss_fn = loss_fn\n",
    "        self.lr = lr\n",
    "        self.device = device\n",
    "        \n",
    "        torch.manual_seed(random_seed)\n",
    "        \n",
    "        if nn_model is None:\n",
    "            self.set_model(None)\n",
    "        else:\n",
    "            self.model = nn_model.to(device)\n",
    "        if optimizer is None:\n",
    "            if self.model is not None:\n",
    "                self.optimizer = torch.optim.SGD(self.model.parameters(), lr=lr)\n",
    "        else:\n",
    "            self.optimizer = optimizer\n",
    "        \n",
    "    def __str__(self):\n",
    "        return str(self.model)\n",
    "\n",
    "    def CLI_help(self):\n",
    "        return str('schema=None, random_seed=1, nn_model: nn.Module = None, optimizer=None, loss_fn=nn.CrossEntropyLoss(), device=(\"cpu\"), lr=1e-3')\n",
    "\n",
    "    def set_model(self, instance):\n",
    "        if self.schema is None:\n",
    "            moa_instance = instance.java_instance.getData()\n",
    "            self.model = NeuralNetwork(input_size=moa_instance.get_num_attributes(), number_of_classes=moa_instance.get_num_classes()).to(self.device)\n",
    "        elif instance is not None:\n",
    "            self.model = NeuralNetwork(input_size=self.schema.get_num_attributes(), number_of_classes=self.schema.get_num_classes()).to(self.device)\n",
    "            \n",
    "    def train(self, instance):\n",
    "        if self.model is None:\n",
    "            self.set_model(instance)\n",
    "    \n",
    "        X = torch.tensor(instance.x, dtype=torch.float32)\n",
    "        y = torch.tensor(instance.y_index, dtype=torch.long)\n",
    "        # set the device and add a dimension to the tensor\n",
    "        X, y = torch.unsqueeze(X.to(self.device), 0), torch.unsqueeze(y.to(self.device),0)\n",
    "\n",
    "        # Compute prediction error\n",
    "        pred = self.model(X)\n",
    "        loss = self.loss_fn(pred, y)\n",
    "    \n",
    "        # Backpropagation\n",
    "        loss.backward()\n",
    "        self.optimizer.step()\n",
    "        self.optimizer.zero_grad()\n",
    "\n",
    "    def predict(self, instance):\n",
    "        return np.argmax(self.predict_proba(instance))\n",
    "\n",
    "    def predict_proba(self, instance):\n",
    "        if self.model is None:\n",
    "            self.set_model(instance)\n",
    "        X = torch.unsqueeze(torch.tensor(instance.x, dtype=torch.float32).to(self.device), 0)\n",
    "        # turn off gradient collection\n",
    "        with torch.no_grad():\n",
    "            pred = np.asarray(self.model(X).numpy(), dtype=np.double)\n",
    "        return pred\n"
   ],
   "outputs": [],
   "execution_count": 4
  },
  {
   "attachments": {},
   "cell_type": "markdown",
   "id": "2c01f8aea1b78936",
   "metadata": {
    "collapsed": false,
    "jupyter": {
     "outputs_hidden": false
    }
   },
   "source": "#### Example using PyTorchClassifier + the instance loop"
  },
  {
   "cell_type": "code",
   "id": "fa7645f5-2c62-467a-b51c-5af1a0a48fb3",
   "metadata": {
    "ExecuteTime": {
     "end_time": "2024-04-26T01:25:23.802091Z",
     "start_time": "2024-04-26T01:25:21.139374Z"
    }
   },
   "source": [
    "from capymoa.evaluation import ClassificationEvaluator\n",
    "\n",
    "## Opening a file again to start from the beginning\n",
    "elec_stream = ElectricityTiny()\n",
    "\n",
    "# Creating the evaluator\n",
    "evaluator = ClassificationEvaluator(schema=elec_stream.get_schema())\n",
    "\n",
    "# Creating a learner\n",
    "simple_pyTorch_classifier = PyTorchClassifier(\n",
    "    schema=elec_stream.get_schema(), \n",
    "    nn_model=NeuralNetwork(input_size=elec_stream.get_schema().get_num_attributes(), number_of_classes=elec_stream.get_schema().get_num_classes()).to(device)\n",
    ")\n",
    "\n",
    "while elec_stream.has_more_instances():\n",
    "    instance = elec_stream.next_instance()\n",
    "\n",
    "    prediction = simple_pyTorch_classifier.predict(instance)\n",
    "    evaluator.update(instance.y_index, prediction)\n",
    "    simple_pyTorch_classifier.train(instance)\n",
    "\n",
    "evaluator.accuracy()"
   ],
   "outputs": [
    {
     "data": {
      "text/plain": [
       "62.849999999999994"
      ]
     },
     "execution_count": 5,
     "metadata": {},
     "output_type": "execute_result"
    }
   ],
   "execution_count": 5
  },
  {
   "attachments": {},
   "cell_type": "markdown",
   "id": "75ee1eb154c01996",
   "metadata": {
    "collapsed": false,
    "jupyter": {
     "outputs_hidden": false
    }
   },
   "source": "#### Example using PyTorchClassifier and prequential_evaluation"
  },
  {
   "cell_type": "code",
   "id": "ece5b5ff-be24-439c-bf53-7bf5d4fbf858",
   "metadata": {
    "ExecuteTime": {
     "end_time": "2024-04-26T01:25:26.439170Z",
     "start_time": "2024-04-26T01:25:23.804666Z"
    }
   },
   "source": [
    "from capymoa.evaluation import prequential_evaluation\n",
    "\n",
    "## Opening a file as a stream\n",
    "elec_stream = ElectricityTiny()\n",
    "\n",
    "# Creating a learner\n",
    "simple_pyTorch_classifier = PyTorchClassifier(\n",
    "    schema=elec_stream.get_schema(), \n",
    "    nn_model=NeuralNetwork(input_size=elec_stream.get_schema().get_num_attributes(), number_of_classes=elec_stream.get_schema().get_num_classes()).to(device)\n",
    ")\n",
    "\n",
    "evaluator = prequential_evaluation(stream=elec_stream, learner=simple_pyTorch_classifier, window_size=4500, optimise=False)\n",
    "\n",
    "evaluator['cumulative'].accuracy()"
   ],
   "outputs": [
    {
     "data": {
      "text/plain": [
       "61.1"
      ]
     },
     "execution_count": 6,
     "metadata": {},
     "output_type": "execute_result"
    }
   ],
   "execution_count": 6
  },
  {
   "attachments": {},
   "cell_type": "markdown",
   "id": "966f760b-7e5f-4f00-b8e9-cc8b7a5a8e72",
   "metadata": {},
   "source": [
    "### How to use TensorBoard with PyTorch\n",
    "\n",
    "Install TensorBoard through the command line to visualize data you logged\n",
    "\n",
    "```sh\n",
    "pip install tensorboard\n",
    "```\n",
    "Clear any logs from previous runs\n",
    "\n",
    "```sh\n",
    "rm -rf ./runs\n",
    "```\n",
    "\n",
    "**TODO: create another notebook (for visualizations) and move this section**"
   ]
  },
  {
   "cell_type": "code",
   "id": "bcbeb389",
   "metadata": {
    "ExecuteTime": {
     "end_time": "2024-04-26T01:25:30.268680Z",
     "start_time": "2024-04-26T01:25:26.441464Z"
    }
   },
   "source": [
    "!pip install tensorboard"
   ],
   "outputs": [
    {
     "name": "stdout",
     "output_type": "stream",
     "text": [
      "Requirement already satisfied: tensorboard in /Users/ng98/miniconda3/envs/CapyMOA/lib/python3.9/site-packages (2.16.2)\r\n",
      "Requirement already satisfied: absl-py>=0.4 in /Users/ng98/miniconda3/envs/CapyMOA/lib/python3.9/site-packages (from tensorboard) (2.1.0)\r\n",
      "Requirement already satisfied: grpcio>=1.48.2 in /Users/ng98/miniconda3/envs/CapyMOA/lib/python3.9/site-packages (from tensorboard) (1.62.0)\r\n",
      "Requirement already satisfied: markdown>=2.6.8 in /Users/ng98/miniconda3/envs/CapyMOA/lib/python3.9/site-packages (from tensorboard) (3.5.2)\r\n",
      "Requirement already satisfied: numpy>=1.12.0 in /Users/ng98/miniconda3/envs/CapyMOA/lib/python3.9/site-packages (from tensorboard) (1.26.3)\r\n",
      "Requirement already satisfied: protobuf!=4.24.0,>=3.19.6 in /Users/ng98/miniconda3/envs/CapyMOA/lib/python3.9/site-packages (from tensorboard) (4.25.3)\r\n",
      "Requirement already satisfied: setuptools>=41.0.0 in /Users/ng98/miniconda3/envs/CapyMOA/lib/python3.9/site-packages (from tensorboard) (68.2.2)\r\n",
      "Requirement already satisfied: six>1.9 in /Users/ng98/miniconda3/envs/CapyMOA/lib/python3.9/site-packages (from tensorboard) (1.16.0)\r\n",
      "Requirement already satisfied: tensorboard-data-server<0.8.0,>=0.7.0 in /Users/ng98/miniconda3/envs/CapyMOA/lib/python3.9/site-packages (from tensorboard) (0.7.2)\r\n",
      "Requirement already satisfied: werkzeug>=1.0.1 in /Users/ng98/miniconda3/envs/CapyMOA/lib/python3.9/site-packages (from tensorboard) (3.0.1)\r\n",
      "Requirement already satisfied: importlib-metadata>=4.4 in /Users/ng98/miniconda3/envs/CapyMOA/lib/python3.9/site-packages (from markdown>=2.6.8->tensorboard) (6.8.0)\r\n",
      "Requirement already satisfied: MarkupSafe>=2.1.1 in /Users/ng98/miniconda3/envs/CapyMOA/lib/python3.9/site-packages (from werkzeug>=1.0.1->tensorboard) (2.1.3)\r\n",
      "Requirement already satisfied: zipp>=0.5 in /Users/ng98/miniconda3/envs/CapyMOA/lib/python3.9/site-packages (from importlib-metadata>=4.4->markdown>=2.6.8->tensorboard) (3.16.2)\r\n"
     ]
    }
   ],
   "execution_count": 7
  },
  {
   "attachments": {},
   "cell_type": "markdown",
   "id": "eaf035bef41c2ed2",
   "metadata": {
    "collapsed": false,
    "jupyter": {
     "outputs_hidden": false
    }
   },
   "source": [
    "#### Create a SummaryWriter instance."
   ]
  },
  {
   "cell_type": "code",
   "id": "6d2d7214-84a6-410e-977c-3b16a198347b",
   "metadata": {
    "ExecuteTime": {
     "end_time": "2024-04-26T01:25:31.018124Z",
     "start_time": "2024-04-26T01:25:30.272545Z"
    }
   },
   "source": [
    "from torch.utils.tensorboard import SummaryWriter\n",
    "writer = SummaryWriter()"
   ],
   "outputs": [],
   "execution_count": 8
  },
  {
   "attachments": {},
   "cell_type": "markdown",
   "id": "e5f87ce2a3293c34",
   "metadata": {
    "collapsed": false,
    "jupyter": {
     "outputs_hidden": false
    }
   },
   "source": [
    "#### Example using PyTorchClassifier + the instance loop + TensorBoard"
   ]
  },
  {
   "cell_type": "code",
   "id": "b7f048d71276da1f",
   "metadata": {
    "collapsed": false,
    "jupyter": {
     "outputs_hidden": false
    },
    "ExecuteTime": {
     "end_time": "2024-04-26T01:25:34.342014Z",
     "start_time": "2024-04-26T01:25:31.021272Z"
    }
   },
   "source": [
    "from capymoa.evaluation import ClassificationEvaluator\n",
    "\n",
    "## Opening a file again to start from the beginning\n",
    "elec_stream = ElectricityTiny()\n",
    "\n",
    "# Creating the evaluator\n",
    "evaluator = ClassificationEvaluator(schema=elec_stream.get_schema())\n",
    "\n",
    "# Creating a learner\n",
    "simple_pyTorch_classifier = PyTorchClassifier(\n",
    "    schema=elec_stream.get_schema(), \n",
    "    nn_model=NeuralNetwork(input_size=elec_stream.get_schema().get_num_attributes(), number_of_classes=elec_stream.get_schema().get_num_classes()).to(device)\n",
    ")\n",
    "\n",
    "i = 0\n",
    "while elec_stream.has_more_instances():\n",
    "    i += 1\n",
    "    instance = elec_stream.next_instance()\n",
    "\n",
    "    prediction = simple_pyTorch_classifier.predict(instance)\n",
    "    evaluator.update(instance.y_index, prediction)\n",
    "    simple_pyTorch_classifier.train(instance)\n",
    "    \n",
    "    if i % 1000 == 0:\n",
    "        writer.add_scalar(\"accuracy\", evaluator.accuracy(), i)\n",
    "\n",
    "writer.add_scalar(\"accuracy\", evaluator.accuracy(), i)\n",
    "writer.flush()"
   ],
   "outputs": [],
   "execution_count": 9
  },
  {
   "attachments": {},
   "cell_type": "markdown",
   "id": "7d38ffa8-4fff-470f-bbe3-e6ebe3e583b0",
   "metadata": {},
   "source": [
    "Call flush() method to make sure that all pending events have been written to disk.\n",
    "\n",
    "See torch.utils.tensorboard tutorials to find more TensorBoard visualization types you can log."
   ]
  },
  {
   "cell_type": "code",
   "id": "929d7e1a-5b7c-400e-a647-c565cb357d78",
   "metadata": {
    "ExecuteTime": {
     "end_time": "2024-04-26T01:25:34.348752Z",
     "start_time": "2024-04-26T01:25:34.344615Z"
    }
   },
   "source": [
    "# If you do not need the summary writer anymore, call close() method.\n",
    "writer.close()"
   ],
   "outputs": [],
   "execution_count": 10
  },
  {
   "attachments": {},
   "cell_type": "markdown",
   "id": "5ec8dc33-bbc9-4e63-b1ac-1a6d490f09ee",
   "metadata": {},
   "source": [
    "```\n",
    "# This is formatted as code\n",
    "```\n",
    "\n",
    "#### Run TensorBoard\n",
    "Now, start TensorBoard, specifying the root log directory you used above. \n",
    "Argument ``logdir`` points to directory where TensorBoard will look to find \n",
    "event files that it can display. TensorBoard will recursively walk \n",
    "the directory structure rooted at ``logdir``, looking for ``.*tfevents.*`` files.\n",
    "\n",
    "```sh\n",
    "tensorboard --logdir=runs\n",
    "```\n",
    "Go to the URL it provides\n",
    "\n",
    "This dashboard shows how the accuracy change with time. \n",
    "You can use it to also track training speed, learning rate, and other \n",
    "scalar values."
   ]
  },
  {
   "cell_type": "markdown",
   "id": "a3a752afb7e7698d",
   "metadata": {
    "collapsed": false,
    "jupyter": {
     "outputs_hidden": false
    }
   },
   "source": "### How to use pytorch dataset with a CapyMOA classifier"
  },
  {
   "cell_type": "code",
   "id": "ef4a60c0fc5b0894",
   "metadata": {
    "collapsed": false,
    "jupyter": {
     "outputs_hidden": false
    },
    "ExecuteTime": {
     "end_time": "2024-04-26T01:25:44.909049Z",
     "start_time": "2024-04-26T01:25:34.351859Z"
    }
   },
   "source": [
    "from capymoa.evaluation import ClassificationEvaluator\n",
    "from capymoa.classifier import OnlineBagging\n",
    "from capymoa.stream import PytorchStream\n",
    "\n",
    "from torchvision import datasets\n",
    "from torchvision.transforms import ToTensor\n",
    "\n",
    "pytorchDtaset = datasets.FashionMNIST(\n",
    "            root=\"data\",\n",
    "            train=True,\n",
    "            download=True,\n",
    "            transform=ToTensor()\n",
    "        )\n",
    "pytorchc_stream = PytorchStream(dataset=pytorchDtaset)\n",
    "\n",
    "# Creating a learner\n",
    "ob_learner = OnlineBagging(schema=pytorchc_stream.get_schema(), ensemble_size=5)\n",
    "\n",
    "# Creating the evaluator\n",
    "ob_evaluator = ClassificationEvaluator(schema=pytorchc_stream.get_schema())\n",
    "\n",
    "i = 0\n",
    "while pytorchc_stream.has_more_instances() and i < 1000:\n",
    "    instance = pytorchc_stream.next_instance()\n",
    "    \n",
    "    prediction = ob_learner.predict(instance)\n",
    "    ob_evaluator.update(instance.y_index, prediction)\n",
    "    ob_learner.train(instance)\n",
    "    i += 1 \n",
    "\n",
    "ob_evaluator.accuracy()"
   ],
   "outputs": [
    {
     "data": {
      "text/plain": [
       "43.5"
      ]
     },
     "execution_count": 11,
     "metadata": {},
     "output_type": "execute_result"
    }
   ],
   "execution_count": 11
  }
 ],
 "metadata": {
  "kernelspec": {
   "display_name": "Python 3 (ipykernel)",
   "language": "python",
   "name": "python3"
  },
  "language_info": {
   "codemirror_mode": {
    "name": "ipython",
    "version": 3
   },
   "file_extension": ".py",
   "mimetype": "text/x-python",
   "name": "python",
   "nbconvert_exporter": "python",
   "pygments_lexer": "ipython3",
   "version": "3.9.18"
  }
 },
 "nbformat": 4,
 "nbformat_minor": 5
}
