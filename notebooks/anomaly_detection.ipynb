{
 "cells": [
  {
   "metadata": {},
   "cell_type": "markdown",
   "source": [
    "# 0. Anomaly Detection with CapyMOA\n",
    "\n",
    "This notebook shows some basic usage of CapyMOA for Anomaly Detection tasks.\n",
    "\n",
    "---\n",
    "\n",
    "*More information about CapyMOA can be found in* https://www.capymoa.org\n",
    "\n",
    "**last update on 19/05/2024**"
   ],
   "id": "a179cd16ae91dee3"
  },
  {
   "metadata": {},
   "cell_type": "markdown",
   "source": [
    "## 1. Unsupervised Anomaly Detection for data streams\n",
    "\n",
    "* Recent research has been focused on unsupervised anomaly detection for data streams, as it is often difficult to obtain labeled data for training.\n",
    "* Instead of using evaluation functions such as **test-then-train loop**, we will show a basic loop from scratch to evaluate the model's performance.\n",
    "* Please notice that lower scores indicate higher anomaly likelihood."
   ],
   "id": "c190066b9765a7e7"
  },
  {
   "metadata": {
    "ExecuteTime": {
     "end_time": "2024-05-24T02:31:53.712036Z",
     "start_time": "2024-05-24T02:31:51.410148Z"
    }
   },
   "cell_type": "code",
   "source": [
    "from capymoa.datasets import ElectricityTiny\n",
    "from capymoa.anomaly import HalfSpaceTrees\n",
    "from capymoa.evaluation import AUCEvaluator\n",
    "stream = ElectricityTiny()\n",
    "schema = stream.get_schema()\n",
    "learner = HalfSpaceTrees(schema)\n",
    "evaluator = AUCEvaluator(schema)\n",
    "while stream.has_more_instances():\n",
    "    instance = stream.next_instance()\n",
    "    score = learner.score_instance(instance)\n",
    "    evaluator.update(instance.y_index, score)\n",
    "    learner.train(instance)\n",
    "    \n",
    "auc = evaluator.auc()\n",
    "print(f\"AUC: {auc:.2f}\")"
   ],
   "id": "8f7fd1e84afbb8a9",
   "outputs": [
    {
     "name": "stdout",
     "output_type": "stream",
     "text": [
      "AUC: 0.54\n"
     ]
    }
   ],
   "execution_count": 1
  }
 ],
 "metadata": {
  "kernelspec": {
   "display_name": "Python 3",
   "language": "python",
   "name": "python3"
  },
  "language_info": {
   "codemirror_mode": {
    "name": "ipython",
    "version": 2
   },
   "file_extension": ".py",
   "mimetype": "text/x-python",
   "name": "python",
   "nbconvert_exporter": "python",
   "pygments_lexer": "ipython2",
   "version": "2.7.6"
  }
 },
 "nbformat": 4,
 "nbformat_minor": 5
}
