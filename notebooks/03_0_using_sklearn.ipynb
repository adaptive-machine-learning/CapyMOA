{
 "cells": [
  {
   "attachments": {},
   "cell_type": "markdown",
   "id": "b773bf8e-c420-44e1-80a6-99f75dd12268",
   "metadata": {},
   "source": [
    "# Using sklearn with CapyMOA\n",
    "\n",
    "* Demonstrate how someone can directly use sklearn learners in CapyMOA.\n",
    "* Ideally, one should be free to use other learners"
   ]
  },
  {
   "cell_type": "code",
   "execution_count": 1,
   "id": "3b7be7ed-97d2-437a-9ed9-fb71e4f33328",
   "metadata": {
    "ExecuteTime": {
     "start_time": "2024-04-29T11:55:56.144446Z"
    },
    "jupyter": {
     "is_executing": true
    }
   },
   "outputs": [
    {
     "name": "stdout",
     "output_type": "stream",
     "text": [
      "capymoa_root: /Users/ng98/Desktop/CODE/CapyMOA_Latest/src/capymoa\n",
      "MOA jar path location (config.ini): /Users/ng98/Desktop/CODE/CapyMOA_Latest/src/capymoa/jar/moa.jar\n",
      "JVM Location (system): \n",
      "JAVA_HOME: /Users/ng98/Library/Java/JavaVirtualMachines/openjdk-14.0.1/Contents/Home\n",
      "JVM args: ['-Xmx8g', '-Xss10M']\n",
      "Sucessfully started the JVM and added MOA jar to the class path\n"
     ]
    }
   ],
   "source": [
    "from capymoa.datasets import ElectricityTiny\n",
    "\n",
    "DATA_PATH = \"../data/\""
   ]
  },
  {
   "attachments": {},
   "cell_type": "markdown",
   "id": "948e37ec-fbfd-43ea-a04a-7c11215452cc",
   "metadata": {},
   "source": [
    "## 1. Using scikit-learn\n",
    "\n",
    "* Example showing how a model from scikit-learn can be used with our ```Instance``` representation with an instance loop "
   ]
  },
  {
   "cell_type": "code",
   "execution_count": 2,
   "id": "2745848d-43d1-4d9e-a191-14e6be61bf7b",
   "metadata": {
    "ExecuteTime": {
     "end_time": "2024-04-29T11:35:22.576729Z",
     "start_time": "2024-04-29T11:35:20.707805Z"
    }
   },
   "outputs": [
    {
     "data": {
      "text/plain": [
       "84.7"
      ]
     },
     "execution_count": 2,
     "metadata": {},
     "output_type": "execute_result"
    }
   ],
   "source": [
    "from sklearn import linear_model\n",
    "from capymoa.evaluation import ClassificationEvaluator\n",
    "\n",
    "# Creating a stream. Using the tiny version of the electricity dataset to speed\n",
    "# up the process\n",
    "elec_stream = ElectricityTiny()\n",
    "\n",
    "# Creating a learner\n",
    "sklearn_SGD = linear_model.SGDClassifier()\n",
    "\n",
    "# Creating the evaluator\n",
    "ob_evaluator = ClassificationEvaluator(schema=elec_stream.get_schema())\n",
    "\n",
    "# elec_stream.schema.get_label_indexes() --> the class labels\n",
    "\n",
    "# Counter for partial fits\n",
    "partial_fit_count = 0\n",
    "while elec_stream.has_more_instances():\n",
    "    instance = elec_stream.next_instance()\n",
    "\n",
    "    prediction = -1\n",
    "    if partial_fit_count > 0: # scikit-learn does not allows invoking predict in a model that was not fit before\n",
    "        prediction = sklearn_SGD.predict([instance.x])[0]\n",
    "    ob_evaluator.update(instance.y_index, prediction)\n",
    "    sklearn_SGD.partial_fit([instance.x], [instance.y_index], classes=elec_stream.schema.get_label_indexes())\n",
    "    partial_fit_count += 1\n",
    "\n",
    "ob_evaluator.accuracy()"
   ]
  },
  {
   "cell_type": "markdown",
   "id": "eb71a0ef-44ff-4168-b5dd-62530f74d112",
   "metadata": {},
   "source": [
    "## 2. Using SKClassifier\n",
    "* Instead of sklearn ```SGDClassifier``` here we use CapyMOA ```SKClassifier``` on the same instance loop.\n"
   ]
  },
  {
   "cell_type": "code",
   "execution_count": 3,
   "id": "1f457d2f-1b5d-4f41-a883-f11bc7a59814",
   "metadata": {
    "ExecuteTime": {
     "end_time": "2024-04-29T11:35:24.504861Z",
     "start_time": "2024-04-29T11:35:22.580171Z"
    }
   },
   "outputs": [
    {
     "data": {
      "text/plain": [
       "84.7"
      ]
     },
     "execution_count": 3,
     "metadata": {},
     "output_type": "execute_result"
    }
   ],
   "source": [
    "from sklearn import linear_model\n",
    "from capymoa.base import SKClassifier\n",
    "from capymoa.evaluation import ClassificationEvaluator\n",
    "\n",
    "## Opening a file as a stream\n",
    "elec_stream = ElectricityTiny()\n",
    "\n",
    "# Creating a learner\n",
    "sklearn_SGD = SKClassifier(schema=elec_stream.get_schema(), sklearner=linear_model.SGDClassifier())\n",
    "\n",
    "# Creating the evaluator\n",
    "sklearn_SGD_evaluator = ClassificationEvaluator(schema=elec_stream.get_schema())\n",
    "\n",
    "while elec_stream.has_more_instances():\n",
    "    instance = elec_stream.next_instance()\n",
    "\n",
    "    prediction = sklearn_SGD.predict(instance)\n",
    "    sklearn_SGD_evaluator.update(instance.y_index, prediction)\n",
    "    sklearn_SGD.train(instance)\n",
    "\n",
    "sklearn_SGD_evaluator.accuracy()"
   ]
  },
  {
   "attachments": {},
   "cell_type": "markdown",
   "id": "a4ff1ac9-07a1-4a0b-9bb5-f2afa79dd928",
   "metadata": {},
   "source": [
    "## 3. Using prequential evaluation + SKClassifier\n",
    "* Instead of an instance loop we use CapyMOA ```prequential_evaluation()``` in this example."
   ]
  },
  {
   "cell_type": "code",
   "execution_count": 4,
   "id": "da2bba35-c258-4fc0-8932-f97d56e4e276",
   "metadata": {
    "ExecuteTime": {
     "end_time": "2024-04-29T11:35:26.365823Z",
     "start_time": "2024-04-29T11:35:24.506697Z"
    }
   },
   "outputs": [
    {
     "data": {
      "text/plain": [
       "84.7"
      ]
     },
     "execution_count": 4,
     "metadata": {},
     "output_type": "execute_result"
    }
   ],
   "source": [
    "from capymoa.evaluation import prequential_evaluation\n",
    "\n",
    "## Opening a file as a stream\n",
    "elec_stream = ElectricityTiny()\n",
    "\n",
    "# Creating a learner\n",
    "sklearn_SGD = SKClassifier(schema=elec_stream.get_schema(), sklearner=linear_model.SGDClassifier())\n",
    "\n",
    "results_sklearn_SGD = prequential_evaluation(stream=elec_stream, learner=sklearn_SGD, window_size=4500)\n",
    "\n",
    "results_sklearn_SGD['cumulative'].accuracy()"
   ]
  }
 ],
 "metadata": {
  "kernelspec": {
   "display_name": "Python 3 (ipykernel)",
   "language": "python",
   "name": "python3"
  },
  "language_info": {
   "codemirror_mode": {
    "name": "ipython",
    "version": 3
   },
   "file_extension": ".py",
   "mimetype": "text/x-python",
   "name": "python",
   "nbconvert_exporter": "python",
   "pygments_lexer": "ipython3",
   "version": "3.9.18"
  }
 },
 "nbformat": 4,
 "nbformat_minor": 5
}
